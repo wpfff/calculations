{
 "cells": [
  {
   "cell_type": "code",
   "execution_count": 2,
   "metadata": {
    "collapsed": true
   },
   "outputs": [],
   "source": [
    "import numpy as np\n",
    "from matplotlib import pyplot as plt\n",
    "from scipy import constants\n",
    "import cmath"
   ]
  },
  {
   "cell_type": "code",
   "execution_count": 92,
   "metadata": {
    "collapsed": true
   },
   "outputs": [],
   "source": [
    "#Compute impedance for L in series with parallel combination of Cq and Cp\n",
    "def impedance(L, C, omega):\n",
    "    #if type(omega) is np.ndarray:\n",
    "    #    Z = np.empty(len(omega), dtype=complex)\n",
    "    #    for i in range(len(omega)):\n",
    "    #        Z[i] = 1j*omega[i]*L + 1/(1j*omega[i]*C)\n",
    "    #else:\n",
    "    #    Z = 1j*omega*L + 1/(1j*omega*C)\n",
    "    Z = 1j*omega*L + 1/(1j*omega*C)\n",
    "    return Z\n",
    "\n",
    "#Compute voltage reflection coefficient\n",
    "def reflection(Z, Z_0):\n",
    "    Gamma = (Z - Z_0)/(Z + Z_0)\n",
    "    return Gamma\n",
    "\n",
    "def reflectionHighQ(omega,omega_r,Q):\n",
    "    Gamma=(omega-omega_r+1j*omega_r/(4*Q))/(omega-omega_r-1j*omega_r/(4*Q))\n",
    "    return Gamma\n",
    "\n",
    "#Return the phase offset based on Cq\n",
    "def phaseOffset(L,Cp,Cq,Q):\n",
    "    omega_r0=1/np.sqrt(L*Cp)\n",
    "    omega_rq=1/np.sqrt(L*(Cp+Cq))\n",
    "    if Q<50:\n",
    "        Z1 = impedance(L, Cp, omega_r0)\n",
    "        Z2 = impedance(L, Cp+Cq, omega_r0)\n",
    "        Gamma1 = reflection(Z1, 50)\n",
    "        Gamma2 = reflection(Z2, 50)\n",
    "    else:\n",
    "        Gamma1=reflectionHighQ(omega_r0,omega_r0,Q)\n",
    "        Gamma2=reflectionHighQ(omega_r0,omega_rq,Q)\n",
    "    phase1=np.angle(Gamma1,deg=True)\n",
    "    phase2=np.angle(Gamma2,deg=True)\n",
    "    return phase1-phase2\n"
   ]
  },
  {
   "cell_type": "code",
   "execution_count": 52,
   "metadata": {
    "collapsed": true
   },
   "outputs": [],
   "source": [
    "#Adiabaticity condition\n",
    "def driveMax(omega,tunnelCoupling):\n",
    "    Vg=0.01*2*(tunnelCoupling/constants.h)**2/(constants.e/constants.h*omega/(2*np.pi)*np.sqrt(2))\n",
    "    return Vg\n",
    "\n",
    "#express in photon number\n",
    "def photonMax(omega,driveMax,C):\n",
    "    return 0.5*C*driveMax**2/(constants.hbar*omega)\n",
    "\n",
    "#express in photon flux coming out of resonator\n",
    "def sigOut(omega,Q,photon):\n",
    "    return omega/Q*photon"
   ]
  },
  {
   "cell_type": "code",
   "execution_count": 57,
   "metadata": {
    "collapsed": true
   },
   "outputs": [],
   "source": [
    "#noise assuming Bose-Einstein distributiona_rq=1/n\n",
    "def thermalNoise(omega,temp):\n",
    "    return 1/(np.exp((constants.hbar*omega)/(constants.k*temp))-1)"
   ]
  },
  {
   "cell_type": "code",
   "execution_count": 58,
   "metadata": {
    "collapsed": true
   },
   "outputs": [],
   "source": [
    "def measurementTime(photons,noise,phaseShift):\n",
    "    return -2*noise*np.log(1e-2)/(photons*np.sin(phaseShift/2*(np.pi/180))**2)"
   ]
  },
  {
   "cell_type": "code",
   "execution_count": 18,
   "metadata": {
    "collapsed": true
   },
   "outputs": [],
   "source": [
    "#device parameters\n",
    "t = constants.h*5e9 #[Hz] inter-dot tunnel coupling. E+ - E- = 2t at zero detuning.\n",
    "alpha = 0.8 #gate lever arm\n",
    "L = 0.3e-9\n",
    "Cp = 2e-12\n",
    "Z_0 = 50\n",
    "Cq = alpha**2*constants.e**2/(2*t)\n",
    "Z_LC = np.sqrt(L/Cp)\n",
    "Q = Z_LC/Z_0"
   ]
  },
  {
   "cell_type": "code",
   "execution_count": 93,
   "metadata": {
    "collapsed": true
   },
   "outputs": [],
   "source": [
    "#cQED\n",
    "L = 0.3e-9\n",
    "Cp = 2e-12\n",
    "omega_r0=1/np.sqrt(L*Cp)\n",
    "omega_rq=1/np.sqrt(L*(Cp+Cq))\n",
    "Q=2000\n",
    "\n",
    "hmaxV=driveMax(omega_r0,t)\n",
    "hphoton=photonMax(omega_r0,hmaxV,Cp)*1000*1000 #factor of 1000 from HEMT * 1000 from quantum amplifier\n",
    "hout=sigOut(omega_r0,Q,hphoton)\n",
    "hphase=phaseOffset(L,Cp,Cq,Q)\n",
    "hnoise=thermalNoise(omega_r0,3)\n",
    "#lowFreq\n",
    "L = 210e-9\n",
    "Cp = 0.3e-12\n",
    "omega_r0=1/np.sqrt(L*Cp)\n",
    "omega_rq=1/np.sqrt(L*(Cp+Cq))\n",
    "Q = 75\n",
    "#use this if there is no coupling capacitance\n",
    "#Z_LC = np.sqrt(L/Cp)\n",
    "#Q = Z_LC/50\n",
    "\n",
    "lmaxV=driveMax(omega_r0,t)\n",
    "lphoton=photonMax(omega_r0,lmaxV,Cp)*1000 #factor from HEMT\n",
    "lout=sigOut(omega_r0,Q,lphoton)\n",
    "lphase=phaseOffset(L,Cp,Cq,Q)\n",
    "lnoise=thermalNoise(omega_r0,3)"
   ]
  },
  {
   "cell_type": "code",
   "execution_count": 94,
   "metadata": {},
   "outputs": [
    {
     "data": {
      "text/plain": [
       "1.08235689563034e-07"
      ]
     },
     "execution_count": 94,
     "metadata": {},
     "output_type": "execute_result"
    }
   ],
   "source": [
    "measurementTime(lout,lnoise,lphase)"
   ]
  },
  {
   "cell_type": "code",
   "execution_count": 8,
   "metadata": {},
   "outputs": [
    {
     "data": {
      "image/png": "[encoded data removed]",
      "text/plain": [
       "<matplotlib.figure.Figure at 0x28a625559e8>"
      ]
     },
     "metadata": {},
     "output_type": "display_data"
    },
    {
     "name": "stdout",
     "output_type": "stream",
     "text": [
      "Vertical phase offset at f = 6497.45 MHz: 159.86 deg\n",
      "Q = 2000\n",
      "alpha = 0.8\n",
      "Cq = 2479.3893538625935 aF\n"
     ]
    }
   ],
   "source": [
    "#plotting\n",
    "f = np.linspace(omega_r0/(2*np.pi)-100e6, omega_r0/(2*np.pi)+100e6, 5000)\n",
    "omega = 2*np.pi*f\n",
    "\n",
    "if Q<50:\n",
    "    Z1 = impedance(L, Cp, omega)\n",
    "    Z2 = impedance(L, Cp+Cq, omega)\n",
    "    Gamma1 = reflection(Z1, Z_0)\n",
    "    Gamma2 = reflection(Z2, Z_0)\n",
    "else:\n",
    "    Gamma1=reflectionHighQ(omega,omega_r0,Q)\n",
    "    Gamma2=reflectionHighQ(omega,omega_rq,Q)\n",
    "\n",
    "phase1 = np.angle(Gamma1,deg=True)\n",
    "phase2 = np.angle(Gamma2,deg=True)\n",
    "phase1-=phase1[0]\n",
    "phase1[phase1<0]+=360\n",
    "phase2-=phase2[0]\n",
    "phase2[phase2<0]+=360\n",
    "\n",
    "#f_cut = 1/(2*np.pi*np.sqrt(L*Cp))\n",
    "f_cut = omega_r0/(2*np.pi)\n",
    "f_cut_idx = np.argmin(abs(f - f_cut))\n",
    "\n",
    "plt.plot(f/1e6, phase1, label='Cq = 0')\n",
    "plt.plot(f/1e6, phase2, label='Cq != 0')\n",
    "plt.xlabel('f (MHz)')\n",
    "plt.ylabel('Phase shift (deg)')\n",
    "plt.legend()\n",
    "plt.title('Exact solution')\n",
    "#plt.xlim([f_cut/1e6 - 10, f_cut/1e6 + 10])\n",
    "#plt.ylim([-100,100])\n",
    "plt.show()\n",
    "\n",
    "\n",
    "print('Vertical phase offset at f = {0:.2f} MHz: {1:.2f} deg'.format(f[f_cut_idx]/1e6, (phase1[f_cut_idx]-phase2[f_cut_idx]))\n",
    "     )\n",
    "\n",
    "print('Q = '+str(Q))\n",
    "print('alpha = '+str(alpha))\n",
    "print('Cq = ' + str(Cq/1e-18) + ' aF')\n"
   ]
  },
  {
   "cell_type": "code",
   "execution_count": 12,
   "metadata": {},
   "outputs": [
    {
     "data": {
      "text/plain": [
       "157.19012624386957"
      ]
     },
     "execution_count": 12,
     "metadata": {},
     "output_type": "execute_result"
    }
   ],
   "source": []
  },
  {
   "cell_type": "code",
   "execution_count": 146,
   "metadata": {
    "collapsed": true
   },
   "outputs": [],
   "source": []
  },
  {
   "cell_type": "code",
   "execution_count": 147,
   "metadata": {
    "collapsed": true
   },
   "outputs": [],
   "source": []
  },
  {
   "cell_type": "code",
   "execution_count": 128,
   "metadata": {},
   "outputs": [
    {
     "data": {
      "text/plain": [
       "2.250381412990981e-07"
      ]
     },
     "execution_count": 128,
     "metadata": {},
     "output_type": "execute_result"
    }
   ],
   "source": [
    "driveMax(omega_r0/10,5e9)"
   ]
  },
  {
   "cell_type": "code",
   "execution_count": 165,
   "metadata": {
    "collapsed": true
   },
   "outputs": [],
   "source": []
  },
  {
   "cell_type": "code",
   "execution_count": 166,
   "metadata": {
    "collapsed": true
   },
   "outputs": [],
   "source": []
  },
  {
   "cell_type": "code",
   "execution_count": 176,
   "metadata": {},
   "outputs": [
    {
     "data": {
      "text/plain": [
       "6402.8723990372109"
      ]
     },
     "execution_count": 176,
     "metadata": {},
     "output_type": "execute_result"
    }
   ],
   "source": [
    "lout*100e-9"
   ]
  },
  {
   "cell_type": "code",
   "execution_count": 164,
   "metadata": {},
   "outputs": [
    {
     "data": {
      "text/plain": [
       "64.028723990372114"
      ]
     },
     "execution_count": 164,
     "metadata": {},
     "output_type": "execute_result"
    }
   ],
   "source": [
    "lout*1e-6"
   ]
  },
  {
   "cell_type": "code",
   "execution_count": null,
   "metadata": {
    "collapsed": true
   },
   "outputs": [],
   "source": []
  }
 ],
 "metadata": {
  "kernelspec": {
   "display_name": "Python 3",
   "language": "python",
   "name": "python3"
  },
  "language_info": {
   "codemirror_mode": {
    "name": "ipython",
    "version": 3
   },
   "file_extension": ".py",
   "mimetype": "text/x-python",
   "name": "python",
   "nbconvert_exporter": "python",
   "pygments_lexer": "ipython3",
   "version": "3.6.2"
  }
 },
 "nbformat": 4,
 "nbformat_minor": 2
}
