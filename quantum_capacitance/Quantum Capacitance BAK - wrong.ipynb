{
 "cells": [
  {
   "cell_type": "code",
   "execution_count": null,
   "metadata": {
    "collapsed": true
   },
   "outputs": [],
   "source": [
    "import numpy as np\n",
    "from matplotlib import pyplot as plt\n",
    "import matplotlib as mpl\n",
    "from scipy import constants\n",
    "import sympy as sp\n",
    "\n",
    "%matplotlib inline\n",
    "\n",
    "mpl.rcParams['savefig.dpi'] = 150\n",
    "mpl.rcParams['figure.dpi'] = 150\n",
    "mpl.rcParams['font.size'] = 8\n",
    "mpl.rcParams['font.family'] = 'Arial'"
   ]
  },
  {
   "cell_type": "code",
   "execution_count": null,
   "metadata": {
    "collapsed": true
   },
   "outputs": [],
   "source": []
  },
  {
   "cell_type": "code",
   "execution_count": null,
   "metadata": {
    "collapsed": true
   },
   "outputs": [],
   "source": []
  },
  {
   "cell_type": "code",
   "execution_count": null,
   "metadata": {
    "collapsed": true
   },
   "outputs": [],
   "source": []
  },
  {
   "cell_type": "code",
   "execution_count": null,
   "metadata": {
    "collapsed": true
   },
   "outputs": [],
   "source": []
  },
  {
   "cell_type": "markdown",
   "metadata": {},
   "source": [
    "# Model description\n",
    "\n",
    "## Basic idea\n",
    "\n",
    "TBD\n",
    "\n",
    "## Quantum capacitance\n",
    "\n",
    "We use a very simple model here, where we calculate the quantum capacitance from the tunneling rate between two quantum dots. It is given by\n",
    "\n",
    "$$\n",
    "    C_q = \\frac{\\alpha^2 e^2}{t}, \n",
    "$$\n",
    "\n",
    "where $\\alpha$ is the lever arm of the sensing gate on the dot we measure on, and $t$ is the tunneling rate to the other dot. $t$ can of course also be a co-tunneling rate, the only important thing is that we consider a coherent charge tunneling rate here.\n",
    "\n",
    "\n",
    "## Reflected signal\n",
    "\n",
    "### High-Q regime\n",
    "\n",
    "Since we deal with Qs that are fairly high (even in the simple case they seem higher than a simple estimation of a series LC directly coupled to the tx-line suggests), we use an approximation for the reflection coefficient that doesn't require detailed circuit analysis (See Clerk et al., RMP 2010):\n",
    "\n",
    "$$\n",
    "    \\Gamma = \\frac{\\omega - \\omega_r + i\\omega_r/(4Q)}{\\omega-\\omega_r-i\\omega_r/(4Q)}\n",
    "$$\n",
    "\n",
    "$\\omega$ is the drive frequency, $\\omega_r$ is the resonance frequency, and $Q$ is the Q-factor of the oscillator, which is given by $Q = \\omega_r / \\kappa$, where $\\kappa$ is the **energy** decay rate.\n",
    "\n",
    "The signature of the quantum capacitance is then the phase shift between the reflection off the resonator with quantum capacitance present or not, i.e., between reflection using resonator frequencies $\\omega_{r,0}=(LC)^{-1/2}$ and $\\omega_{r,q} = (L(C+C_q))^{-1/2}$.\n",
    "\n",
    "\n",
    "## Relation to readout signal of an MZM qubit\n",
    "\n",
    "The readout of the quantum capacitance due to coherent tunnel coupling already gives us a good estimate for a MZM qubit readout. We can understand this as follows. The model for the qubit readout is that we have an interferometric coupling between two dots in the form of \n",
    "\n",
    "$$\n",
    "    \\omega_{DD} = \\left( \\epsilon^2 + (t_0 + \\sigma_z t_1)^2) \\right)^{1/2} \\approx t(1 + \\sigma_z) = \\pm t/2,\n",
    "$$\n",
    "\n",
    "where $t_{0,1}$ are the couplings through the two interferometer arms, and $\\sigma_z$ is the Pauli operator of the MZM qubit. Ideally we have $\\epsilon=0$ and $t_0 = t_1 \\equiv t$ during readout (see RHS). From this we can see that the maximal readout signal in reflection between $\\sigma_z = \\pm1$ is equivalent to the difference between zero and full quantum capacitance value.\n",
    "\n",
    "\n",
    "### Amplitude of the readout drive\n",
    "\n",
    "The readout scheme is based on the value of the interdot coupling beeing a function of the MZM parity operator. Importantly, during readout we probe the difference in phase response between two DD charge ground state configurations. We do not wish to excite the DD system during this readout, since the short lifetime of the excited states will lead to decoherence of the DD system (which will have backaction onto the qubit).\n",
    "\n",
    "While we have ideas on how that could be modeled (see below), for now we use empiric numbers. In first test experiments a power of about -110 dBm at the sample gave decent results. For now we simply fix this power.\n",
    "\n",
    "We then assume that all power is reflected and measured. \n",
    "\n",
    "\n",
    "### Noise\n",
    "\n",
    "We assume we have only thermal noise here. Then the number of thermal photons that are added to signal is given by the Bose-Einstein distribution, \n",
    "\n",
    "$$\n",
    "    n_{th} = \\left( \\exp(\\frac{\\hbar \\omega}{kT_N}) - 1 \\right)^{-1},\n",
    "$$\n",
    "\n",
    "where $T_N$ is the noise temperature of the signal chain.\n",
    "\n",
    "\n",
    "\n",
    "\n",
    "### SNR and qubit readout fidelity\n",
    "\n",
    "If the two signals we are measuring result from a phase shift of $\\theta$, then after integration we have a separation (in units of photon number) of the two signals of $\\Delta = \\kappa \\bar{n} T_\\text{m} \\sin \\left(\\frac{\\theta}{2} \\right)$, where $T_m$ is the measurement time, and $\\bar{n}$ the steady state number of photons in the resonator.\n",
    "\n",
    "SNR is then given as $\\Delta/n_{th}$. This can also be mapped directly onto qubit fidelity, of course (TBD).\n",
    "\n",
    "\n",
    "\n",
    "# Open\n",
    "\n",
    "\n",
    "### Hi-Q vs Lo-Q description\n",
    "\n",
    "* the low-Q model is based on a simple circuit but disagrees with experiments (which give higher Q than what we'd expect)\n",
    "* the high-Q model is based on only Q, but we don't have a model (i.e., adding quantum capacitance is added to an 'effective capacitance'.\n",
    "\n",
    "Can we find a better model that takes into account Q, but also ensures we work with $C_q$ correctly?\n",
    "\n",
    "\n",
    "### Limits on the drive amplitudes\n",
    "\n",
    "Our basic idea is that drive amplitude must be limited by the RF voltage applied to the gate, which could cause excitation of the charge state of the DD system, leading to undesired decoherence. Some basic ideas on how to model that are given below. These are not yet incorporated into the quantitative model.\n",
    "\n",
    "#### Direct driving\n",
    "\n",
    "If we're not far off resonance (i.e., in the limit of small $n_g$ for the RF drive) the drive can induce direct transitions. The Hamiltonian of the DD system in our model is (without drive) \n",
    "\n",
    "$$\n",
    "    H_{DD} = \\begin{pmatrix}\n",
    "        -\\epsilon/2 & t/2\\\\\n",
    "        t/2 & \\epsilon/2\n",
    "    \\end{pmatrix},\n",
    "$$\n",
    "\n",
    "i.e., a charge qubit formed by the DD. Close to resonance the quantization axis is given by the tunnel coupling, with DD eigenstates $|L\\rangle \\pm |R\\rangle$. The drive modulates the detuning, and the Hamiltonian in this frame is then (assuming lever arm of unity, i.e., worst case)\n",
    "\n",
    "$$\n",
    "    H_{DD} = t \\sigma_z^{DD} / 2 + eV_{RF} \\cos(\\omega t) \\sigma_x^{DD} / 2\\hbar. \n",
    "$$\n",
    "\n",
    "From this we can estimate the probability with which the drive maximally populates the excited state as\n",
    "\n",
    "$$\n",
    "    P_{exc} \\sim \\frac{(eV_{RF}/\\hbar)^2}{(eV_{RF}/\\hbar)^2 + (t-\\omega)^2}.\n",
    "$$\n",
    "\n",
    "\n",
    "#### Adiabaticity condition\n",
    "\n",
    "Another way to look at it is by adiabiticity: The RF voltage ramp needs to be slow enough so we remain in the GS at all time while modulating the gate. The probability for exciting the system is given by the Landau-Zener relation,\n",
    "\n",
    "$$\n",
    "    P_{exc} = 1 - \\exp\\left( - \\dot{\\epsilon} / 2 t^2 \\right),\n",
    "$$\n",
    "\n",
    "where \n",
    "\n",
    "$$\n",
    "    \\dot{\\epsilon} \\equiv \\frac{d\\epsilon}{dt} = \\frac{d}{dt} V_{RF} \\cos(\\omega t)\n",
    "$$\n",
    "\n",
    "which leads us to the required condition\n",
    "\n",
    "$$\n",
    "    e V_{RF} \\omega \\ll 2 t^2.\n",
    "$$\n",
    "\n",
    "However: this discussion assumes that each voltage ramp starts and ends far off resonance. The voltages we consider here correspond typically to pretty small $n_g$, though, so that is likely not a good picture."
   ]
  },
  {
   "cell_type": "code",
   "execution_count": null,
   "metadata": {
    "collapsed": true
   },
   "outputs": [],
   "source": [
    "twopi = np.pi * 2"
   ]
  },
  {
   "cell_type": "code",
   "execution_count": null,
   "metadata": {
    "collapsed": true
   },
   "outputs": [],
   "source": [
    "def volt2omega(V):\n",
    "    return constants.e * V / (constants.hbar)\n",
    "\n",
    "\n",
    "def volt2nbar(V, omega, C):\n",
    "    return C * (np.abs(V))**2 / (constants.hbar * omega)\n",
    "\n",
    "\n",
    "def dBm2pwr(dBm):\n",
    "    return 1e-3 * 10**(dBm/10)\n",
    "    \n",
    "\n",
    "def pwr2dBm(pwr):\n",
    "    return 10*np.log10(pwr/1e-3)\n",
    "\n",
    "\n",
    "def pwr2photonflux(pwr, omega):\n",
    "    return pwr / (constants.hbar * omega)\n",
    "\n",
    "\n",
    "def dBm2photonflux(dBm, omega):\n",
    "    return pwr2photonflux(dBm2pwr(dBm), omega)\n",
    "\n",
    "\n",
    "def impedance(L, C, omega):\n",
    "    \"\"\"\n",
    "    Compute impedance for series LC circuit.\n",
    "    \"\"\"\n",
    "    Z = 1j*omega*L + 1/(1j*omega*C)\n",
    "    return Z\n",
    "\n",
    "\n",
    "def reflection(Z, Z_0):\n",
    "    \"\"\"\n",
    "    Compute the voltage reflection coefficient given load impedance and characteristic impedance.\n",
    "    \"\"\"\n",
    "    Gamma = (Z - Z_0)/(Z + Z_0)\n",
    "    return Gamma\n",
    "\n",
    "\n",
    "def phase_offset_loQ(L, Cp, Cq):\n",
    "    omega_r0 = 1/np.sqrt(L*Cp)\n",
    "    omega_rq = 1/np.sqrt(L*(Cp+Cq))\n",
    "    Z1 = impedance(L, Cp, omega_r0)\n",
    "    Z2 = impedance(L, Cp+Cq, omega_r0)\n",
    "    Gamma1 = reflection(Z1, 50)\n",
    "    Gamma2 = reflection(Z2, 50)\n",
    "    phase1 = np.angle(Gamma1, deg=False)\n",
    "    phase2 = np.angle(Gamma2, deg=False)\n",
    "    return phase1 - phase2\n",
    "\n",
    "\n",
    "def reflection_hiQ(omega, omega_r, Q):\n",
    "    \"\"\"\n",
    "    Compute the voltage reflection coefficient for the load being a high-Q resontor.\n",
    "    Inputs:\n",
    "        * omega : drive frequency\n",
    "        * omega_r : resonance frequency of the oscillator\n",
    "        * Q : Q-factor of the oscillator\n",
    "    \"\"\"\n",
    "    Gamma=(omega-omega_r+1j*omega_r/(4*Q))/(omega-omega_r-1j*omega_r/(4*Q))\n",
    "    return Gamma\n",
    "\n",
    "\n",
    "def phase_offset_hiQ(L, Cp, Cq, Q):\n",
    "    \"\"\"\n",
    "    Compute the phase in reflection that is due to quantum capacitance.\n",
    "    For Q >= 50, we use the high-Q approximation for the reflection coefficient,\n",
    "    otherwise we use the standard formula or Voltage reflection and assume a simple series LC resonator.\n",
    "    \"\"\"\n",
    "    omega_r0 = 1/np.sqrt(L*Cp)\n",
    "    omega_rq = 1/np.sqrt(L*(Cp+Cq))\n",
    "    Gamma1 = reflection_hiQ(omega_r0,omega_r0,Q)\n",
    "    Gamma2 = reflection_hiQ(omega_r0,omega_rq,Q)\n",
    "    phase1 = np.angle(Gamma1, deg=False)\n",
    "    phase2 = np.angle(Gamma2, deg=False)\n",
    "    return phase1 - phase2\n",
    "\n",
    "\n",
    "def Cq(alpha, t):\n",
    "    \"\"\"\n",
    "    Compute the quantum capacitance given lever arm alpha and tunnel coupling t.\n",
    "    \"\"\"\n",
    "    return alpha**2 * constants.e**2 / (constants.hbar * t)\n",
    "\n",
    "\n",
    "# def DD_excitation_probability(omega, V_RF, t):\n",
    "#     \"\"\"\n",
    "#     Compute the excited state probability when driving with V_RF on a DD system near resonance.\n",
    "#     Inputs:\n",
    "#         * omega : drive frequency\n",
    "#         * V_RF : drive amplitude in volts\n",
    "#         * t : tunnel coupling\n",
    "#     \"\"\"\n",
    "#     frabi = volt2omega(V_RF)\n",
    "#     return frabi**2 / (frabi**2 + (t-omega)**2)\n",
    "\n",
    "\n",
    "# def max_V(t, omega, p_max=0.01):\n",
    "#     \"\"\"\n",
    "#     Compute the maximal drive voltage amplitude that results in at most p_max excitation.\n",
    "#     \"\"\"\n",
    "#     return ((p_max * (t-omega)**2)/ ((constants.e/constants.hbar)**2 * (1.-p_max)))**(0.5)\n",
    "\n",
    "\n",
    "def n_thermal(T_N, omega):\n",
    "    return (np.exp(constants.hbar * omega / (constants.k * T_N)) - 1)**(-1)\n",
    "\n",
    "def SNR(photonflux, phase, omega, T_m, T_N):\n",
    "    noise = n_thermal(T_N, omega)\n",
    "    signal = photonflux * T_m * np.sin(phase/2.)\n",
    "    return signal/noise"
   ]
  },
  {
   "cell_type": "code",
   "execution_count": null,
   "metadata": {
    "collapsed": true
   },
   "outputs": [],
   "source": [
    "pwr2dBm(1000 * constants.k * 3.0 * twopi * 1e6)"
   ]
  },
  {
   "cell_type": "code",
   "execution_count": null,
   "metadata": {
    "collapsed": true
   },
   "outputs": [],
   "source": [
    "n_thermal(0.022, twopi*1.4e9)"
   ]
  },
  {
   "cell_type": "code",
   "execution_count": null,
   "metadata": {
    "collapsed": true
   },
   "outputs": [],
   "source": [
    "dBm2photonflux(-40-40-20-10, twopi * 1.4e9)"
   ]
  },
  {
   "cell_type": "code",
   "execution_count": null,
   "metadata": {
    "collapsed": true
   },
   "outputs": [],
   "source": [
    "SNR(11000, 0.5 * np.pi / 180., twopi * 1.4e9, 100, 6)"
   ]
  },
  {
   "cell_type": "code",
   "execution_count": null,
   "metadata": {
    "collapsed": true
   },
   "outputs": [],
   "source": []
  },
  {
   "cell_type": "code",
   "execution_count": null,
   "metadata": {
    "collapsed": true
   },
   "outputs": [],
   "source": [
    "alpha = 0.8\n",
    "t = twopi * 20e9\n",
    "Cp = 0.3e-12\n",
    "Q = 50\n",
    "T_N = 3.0\n",
    "G = 1000\n",
    "\n",
    "\n",
    "\n",
    "\n",
    "omega_vals = twopi * np.linspace(0.5, 3, 6) * 1e9\n",
    "L_vals = (omega_vals**2 * Cp)**(-1)\n",
    "\n",
    "Cq_vals = Cq(alpha, t)\n",
    "phase_vals = phase_offset_hiQ(L_vals, Cp, Cq_vals, Q)\n",
    "phase_vals_deg = phase_vals * 180 / np.pi\n",
    "phase_vals_deg[phase_vals_deg < 0] += 360.\n",
    "\n",
    "nout_vals = dBm2photonflux(-110, omega_vals)\n",
    "\n",
    "print(nout_vals * 1e-6)\n",
    "\n",
    "# snr = SNR(max_n_vals, phase_vals, omega_vals, Q, 1e-6, T_N, G)\n",
    "# n_th = n_thermal(T_N, omega_vals)\n",
    "\n",
    "# print(max_n_vals * omega_vals/Q * 1e-6)\n",
    "\n",
    "# fig, ax = plt.subplots(1, 1, figsize=(3,2))\n",
    "# ax.plot(omega_vals / twopi, phase_vals_deg)\n",
    "\n",
    "# fig, ax = plt.subplots(1, 1, figsize=(3,2))\n",
    "# ax.plot(omega_vals / twopi, max_V_vals * 1e6)\n",
    "\n",
    "# fig, ax = plt.subplots(1, 1, figsize=(3,2))\n",
    "# ax.plot(omega_vals / twopi, max_n_vals)\n",
    "\n",
    "# fig, ax = plt.subplots(1, 1, figsize=(3,2))\n",
    "# ax.plot(omega_vals / twopi, n_th)\n",
    "\n",
    "# fig, ax = plt.subplots(1, 1, figsize=(3,2))\n",
    "# ax.plot(omega_vals / twopi, snr)"
   ]
  },
  {
   "cell_type": "code",
   "execution_count": null,
   "metadata": {
    "collapsed": true
   },
   "outputs": [],
   "source": [
    "volt2nbar(8e-6, twopi*0.5e9, 0.3e-12)"
   ]
  },
  {
   "cell_type": "code",
   "execution_count": null,
   "metadata": {
    "collapsed": true
   },
   "outputs": [],
   "source": [
    "kappa = twopi * 0.5e9 / 50.\n",
    "2 * np.arcsin(120./(300000. * 1.4)) * 180/np.pi"
   ]
  },
  {
   "cell_type": "code",
   "execution_count": null,
   "metadata": {
    "collapsed": true
   },
   "outputs": [],
   "source": []
  },
  {
   "cell_type": "code",
   "execution_count": null,
   "metadata": {
    "collapsed": true
   },
   "outputs": [],
   "source": [
    "dBm2photonflux(-127, twopi * 193414e9)"
   ]
  },
  {
   "cell_type": "code",
   "execution_count": null,
   "metadata": {
    "collapsed": true
   },
   "outputs": [],
   "source": [
    "dBm2pwr(0)"
   ]
  },
  {
   "cell_type": "code",
   "execution_count": null,
   "metadata": {
    "collapsed": true
   },
   "outputs": [],
   "source": []
  }
 ],
 "metadata": {
  "kernelspec": {
   "display_name": "Python 3",
   "language": "python",
   "name": "python3"
  },
  "language_info": {
   "codemirror_mode": {
    "name": "ipython",
    "version": 3
   },
   "file_extension": ".py",
   "mimetype": "text/x-python",
   "name": "python",
   "nbconvert_exporter": "python",
   "pygments_lexer": "ipython3",
   "version": "3.6.2"
  }
 },
 "nbformat": 4,
 "nbformat_minor": 2
}
