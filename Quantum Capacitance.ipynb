{
 "cells": [
  {
   "cell_type": "code",
   "execution_count": 1,
   "metadata": {
    "collapsed": true
   },
   "outputs": [],
   "source": [
    "import numpy as np\n",
    "from matplotlib import pyplot as plt\n",
    "from scipy import constants\n",
    "import cmat"
   ]
  },
  {
   "cell_type": "code",
   "execution_count": 7,
   "metadata": {
    "collapsed": true
   },
   "outputs": [],
   "source": [
    "def impedance(L, C, omega):\n",
    "    \"\"\"\n",
    "    Compute impedance for series LC circuit.\n",
    "    \"\"\"\n",
    "    Z = 1j*omega*L + 1/(1j*omega*C)\n",
    "    return Z\n",
    "\n",
    "def reflection(Z, Z_0):\n",
    "    \"\"\"\n",
    "    Compute the voltage reflection coefficient given load impedance and characteristic impedance.\n",
    "    \"\"\"\n",
    "    Gamma = (Z - Z_0)/(Z + Z_0)\n",
    "    return Gamma\n",
    "\n",
    "def reflectionHighQ(omega, omega_r, Q):\n",
    "    \"\"\"\n",
    "    Compute the voltage reflection coefficient for the load being a high-Q resontor.\n",
    "    Inputs:\n",
    "        * omega : drive frequency\n",
    "        * omega_r : resonance frequency of the oscillator\n",
    "        * Q : Q-factor of the oscillator\n",
    "    \"\"\"\n",
    "    Gamma=(omega-omega_r+1j*omega_r/(4*Q))/(omega-omega_r-1j*omega_r/(4*Q))\n",
    "    return Gamma\n",
    "\n",
    "#Return the phase offset based on Cq\n",
    "def phaseOffset(L, Cp, Cq, Q):\n",
    "    \"\"\"\n",
    "    Compute the phase in reflection that is due to quantum capacitance.\n",
    "    For Q >= 50, we use the high-Q approximation for the reflection coefficient,\n",
    "    otherwise we use the standard formula or Voltage reflection and assume a simple series LC resonator.\n",
    "    \"\"\"\n",
    "    omega_r0=1/np.sqrt(L*Cp)\n",
    "    omega_rq=1/np.sqrt(L*(Cp+Cq))\n",
    "    if Q<50:\n",
    "        Z1 = impedance(L, Cp, omega_r0)\n",
    "        Z2 = impedance(L, Cp+Cq, omega_r0)\n",
    "        Gamma1 = reflection(Z1, 50)\n",
    "        Gamma2 = reflection(Z2, 50)\n",
    "    else:\n",
    "        Gamma1=reflectionHighQ(omega_r0,omega_r0,Q)\n",
    "        Gamma2=reflectionHighQ(omega_r0,omega_rq,Q)\n",
    "    phase1=np.angle(Gamma1,deg=True)\n",
    "    phase2=np.angle(Gamma2,deg=True)\n",
    "    return phase1-phase2"
   ]
  },
  {
   "cell_type": "code",
   "execution_count": null,
   "metadata": {
    "collapsed": true
   },
   "outputs": [],
   "source": []
  },
  {
   "cell_type": "markdown",
   "metadata": {},
   "source": [
    "# Model description\n",
    "\n",
    "### Quantum capacitance\n",
    "\n",
    "We use a very simple model here, where we calculate the quantum capacitance from the tunneling rate between two quantum dots. It is given by\n",
    "\n",
    "$$\n",
    "    C_q = \\frac{\\alpha^2 e^2}{2 t}, \n",
    "$$\n",
    "\n",
    "where $\\alpha$ is the lever arm of the sensing gate on the dot we measure on, and $t$ is the tunneling rate to the other dot. $t$ can of course also be a co-tunneling rate, the only important thing is that we consider a coherent coupling here.\n",
    "\n",
    "\n",
    "### Reflected signal\n",
    "\n",
    "Since we deal with Qs that are fairly high (even in the simple case they seem higher than a simple estimation of a series LC directly coupled to the tx-line suggests), we use an approximation for the reflection coefficient that doesn't require detailed circuit analysis (See Clerk et al., RMP 2010):\n",
    "\n",
    "$$\n",
    "    \\Gamma = \\frac{\\omega - \\omega_r + i\\omega_r/(4Q)}{\\omega-\\omega_r-i\\omega_r/(4Q)}\n",
    "$$\n",
    "\n",
    "$\\omega$ is the drive frequency, $\\omega_r$ is the resonance frequency, and $Q$ is the Q-factor of the oscillator, which is given by $Q = \\omega_r / \\kappa$, where $\\kappa$ is the **energy** decay rate.\n",
    "\n",
    "The signature of the quantum capacitance is then the phase shift between the reflection off the resonator with quantum capacitance present or not, i.e., between reflection using resonator frequencies $\\omega_{r,0}=(LC)^{-1/2}$ and $\\omega_{r,q} = (L(C+C_p))^{-1/2}$.\n",
    "\n",
    "\n",
    "### Relation to readout signal of an MZM qubit\n",
    "\n",
    "The simple model here is that we have an interferometric coupling between two dots in the form of \n",
    "\n",
    "$$\n",
    "    \\omega_{DD} = \\left( \\epsilon^2 + (t_0 + \\sigma_z t_1)^2) \\right)^{1/2} \\approx t(1 + \\sigma_z) = \\pm t/2,\n",
    "$$\n",
    "\n",
    "where $t_{0,1}$ are the couplings through the two interferometer arms, and $\\sigma_z$ is the Pauli operator of the MZM qubit. Ideally we have $\\epsilon=0$ and $t_0 = t_1$ during readout (see RHS). From this we can see that the maximal readout signal in reflection between $\\sigma_z = \\pm1$ is equivalent to the difference between zero and full quantum capacitance value.\n",
    "\n",
    "### Amplitude of the readout drive\n",
    "\n",
    "The readout scheme is based on the value of the interdot coupling beeing a function of the MZM parity operator. Importantly, during readout we probe the difference in phase response between two DD charge ground state configurations. We do not wish to excite the DD system during this readout, since the short lifetime of the excited states will lead to decoherence of the DD system (which will have backaction onto the qubit).\n",
    "\n",
    "This means the drive on the gate needs to remain adiabatic: The RF voltage ramp needs to be slow enough so we remain in the GS at all time while modulating the gate. The probability for exciting the system is given by the Landau-Zener relation,\n",
    "\n",
    "$$\n",
    "    P_{exc} = 1 - \\exp\\left( - \\dot{\\epsilon} / 2 t^2 \\right),\n",
    "$$\n",
    "\n",
    "where \n",
    "\n",
    "$$\n",
    "    \\dot{\\epsilon} \\equiv \\frac{d\\epsilon}{dt} = \\frac{d}{dt} V_{RF} \\cos(\\omega t)\n",
    "$$\n",
    "\n",
    "which leads us to the required condition\n",
    "\n",
    "$$\n",
    "    e V_{RF} \\omega \\ll 2 t^2.\n",
    "$$\n",
    "\n",
    "### Signal photon number\n",
    "\n",
    "Our preferred way of looking at the output signal is the photon number. From the electromagnetic energy stored in the resonator we can calculate the steady state photon number in the resonator as \n",
    "\n",
    "$$\n",
    "    \\bar{n} = \\frac{C \\bar{V_{RF}}^2}{2 \\hbar \\omega}\n",
    "$$\n",
    "\n",
    "and the photon flux leaving the resonator (in units of photons per second) is $\\kappa \\bar{n}$.\n",
    "\n",
    "\n",
    "### Noise\n",
    "\n",
    "We assume we have only thermal noise here. Then the number of thermal photons that are added to signal is given by the Bose-Einstein distribution, \n",
    "\n",
    "$$\n",
    "    n_{th} = \\left( \\exp(\\frac{\\hbar \\omega}{kT}) - 1 \\right)^{-1}\n",
    "$$"
   ]
  },
  {
   "cell_type": "code",
   "execution_count": null,
   "metadata": {
    "collapsed": true
   },
   "outputs": [],
   "source": []
  },
  {
   "cell_type": "code",
   "execution_count": null,
   "metadata": {
    "collapsed": true
   },
   "outputs": [],
   "source": []
  },
  {
   "cell_type": "code",
   "execution_count": null,
   "metadata": {
    "collapsed": true
   },
   "outputs": [],
   "source": []
  },
  {
   "cell_type": "code",
   "execution_count": 11,
   "metadata": {},
   "outputs": [
    {
     "data": {
      "text/plain": [
       "0.99004983374916811"
      ]
     },
     "execution_count": 11,
     "metadata": {},
     "output_type": "execute_result"
    }
   ],
   "source": [
    "np.exp(-0.01)"
   ]
  },
  {
   "cell_type": "code",
   "execution_count": null,
   "metadata": {
    "collapsed": true
   },
   "outputs": [],
   "source": []
  }
 ],
 "metadata": {
  "kernelspec": {
   "display_name": "Python 3",
   "language": "python",
   "name": "python3"
  },
  "language_info": {
   "codemirror_mode": {
    "name": "ipython",
    "version": 3
   },
   "file_extension": ".py",
   "mimetype": "text/x-python",
   "name": "python",
   "nbconvert_exporter": "python",
   "pygments_lexer": "ipython3",
   "version": "3.6.2"
  }
 },
 "nbformat": 4,
 "nbformat_minor": 2
}
