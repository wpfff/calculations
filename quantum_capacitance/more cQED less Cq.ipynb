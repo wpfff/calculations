{
 "cells": [
  {
   "cell_type": "raw",
   "metadata": {},
   "source": [
    "<script>\n",
    "  function code_toggle() {\n",
    "    if (code_shown){\n",
    "      $('div.input').hide('500');\n",
    "      $('#toggleButton').val('Show Code')\n",
    "    } else {\n",
    "      $('div.input').show('500');\n",
    "      $('#toggleButton').val('Hide Code')\n",
    "    }\n",
    "    code_shown = !code_shown\n",
    "  }\n",
    "\n",
    "  $( document ).ready(function(){\n",
    "    code_shown=false;\n",
    "    $('div.input').hide()\n",
    "  });\n",
    "</script>\n",
    "<form action=\"javascript:code_toggle()\"><input type=\"submit\" id=\"toggleButton\" value=\"Show Code\"></form>"
   ]
  },
  {
   "cell_type": "markdown",
   "metadata": {},
   "source": [
    "# Imports and definitions"
   ]
  },
  {
   "cell_type": "code",
   "execution_count": 1,
   "metadata": {
    "collapsed": true
   },
   "outputs": [],
   "source": [
    "import numpy as np\n",
    "from matplotlib import pyplot as plt\n",
    "import matplotlib as mpl\n",
    "from matplotlib import cm\n",
    "from matplotlib.colors import rgb2hex\n",
    "from scipy import constants\n",
    "import sympy as sp\n",
    "\n",
    "%matplotlib inline\n",
    "\n",
    "mpl.rcParams['savefig.dpi'] = 150\n",
    "mpl.rcParams['figure.dpi'] = 150\n",
    "mpl.rcParams['figure.figsize'] = (3,2)\n",
    "mpl.rcParams['font.size'] = 8\n",
    "mpl.rcParams['font.family'] = 'Arial'\n",
    "mpl.rcParams['savefig.transparent'] = False\n",
    "mpl.rcParams['figure.facecolor'] = 'white'"
   ]
  },
  {
   "cell_type": "code",
   "execution_count": null,
   "metadata": {
    "collapsed": true
   },
   "outputs": [],
   "source": []
  },
  {
   "cell_type": "markdown",
   "metadata": {
    "collapsed": true
   },
   "source": [
    "# Todo\n",
    "\n",
    "* include detuning between the dots"
   ]
  },
  {
   "cell_type": "markdown",
   "metadata": {},
   "source": [
    "# Definitions"
   ]
  },
  {
   "cell_type": "code",
   "execution_count": 2,
   "metadata": {
    "collapsed": true
   },
   "outputs": [],
   "source": [
    "twopi = 2 * np.pi\n",
    "\n",
    "### conversion tools\n",
    "def volt2omega(V):\n",
    "    return constants.e * V / (constants.hbar)\n",
    "\n",
    "\n",
    "def dBm2pwr(dBm):\n",
    "    return 1e-3 * 10**(dBm/10)\n",
    "    \n",
    "\n",
    "def pwr2dBm(pwr):\n",
    "    return 10*np.log10(pwr/1e-3)\n",
    "\n",
    "\n",
    "def pwr2photonflux(pwr, omega):\n",
    "    return pwr / (constants.hbar * omega)\n",
    "\n",
    "\n",
    "def dBm2photonflux(dBm, omega):\n",
    "    return pwr2photonflux(dBm2pwr(dBm), omega)\n",
    "\n",
    "\n",
    "def noisepwr(T_N, B, G):\n",
    "    return constants.k * T_N * B * G\n",
    "\n",
    "\n",
    "def reflection_hiQ(omega, domega, Q):\n",
    "    \"\"\"\n",
    "    Compute the voltage reflection coefficient for the load being a high-Q resonator.\n",
    "    Inputs:\n",
    "        * omega : resonator frequency\n",
    "        * domega : drive detuning from resonator frequency\n",
    "        * Q : Q-factor of the oscillator\n",
    "    \"\"\"\n",
    "    Gamma=(domega+1j*omega/(2*Q))/(domega-1j*omega/(2*Q))\n",
    "    return Gamma\n",
    "\n",
    "class QuantumCapacitance(object):\n",
    "    \n",
    "    default_params = dict()\n",
    "    \n",
    "    def __init__(self, **params):\n",
    "        _p = self.default_params.copy()\n",
    "        _p.update(params)\n",
    "        for p in _p:\n",
    "            setattr(self, p, _p[p])\n",
    "            \n",
    "    def Cq(self):\n",
    "        return self.alpha**2 * constants.e**2 / (2 * constants.hbar * self.tau)\n",
    "\n",
    "    def phase_offset_hiQ(self):\n",
    "        \"\"\"\n",
    "        Compute the phase in reflection that is due to quantum capacitance.\n",
    "        For Q >= 50, we use the high-Q approximation for the reflection coefficient,\n",
    "        otherwise we use the standard formula or Voltage reflection and assume a simple series LC resonator.\n",
    "        \"\"\"\n",
    "        omega = 1/np.sqrt(L*Cp)\n",
    "        omega_q = 1/np.sqrt(L*(Cp+Cq))\n",
    "        Gamma1 = reflection_hiQ(omega, 0, Q)\n",
    "        Gamma2 = reflection_hiQ(omega, omega-omega_q, Q)\n",
    "        phase1 = np.angle(Gamma1, deg=False)\n",
    "        phase2 = np.angle(Gamma2, deg=False)\n",
    "        return phase1 - phase2\n",
    "    \n",
    "\n",
    "class GatesensorResponse(object):\n",
    "    \n",
    "    default_params = dict(tau=0, alpha=0.1, C=1e-12,\n",
    "                          omega=twopi*1e9, g0=0, Vg=0, domega=0, \n",
    "                          kappa_in=twopi*1e6, kappa_out=0, kappa_loss=0,\n",
    "                          input=0, gamma=0)\n",
    "    \n",
    "    def __init__(self, **params):\n",
    "        _p = self.default_params.copy()\n",
    "        _p.update(params)\n",
    "        for p in _p:\n",
    "            setattr(self, p, _p[p])\n",
    "            \n",
    "    def gatevoltage_from_excitation(self, p_max=0.01):\n",
    "        return ((p_max * (self.tau-self.omega)**2)/ ((constants.e/constants.hbar)**2 * (1.-p_max)))**(0.5)\n",
    "            \n",
    "    def gatevoltage_from_disp(self):\n",
    "        return (constants.hbar * self.omega / self.C)**.5 * 2 * self.disp\n",
    "    \n",
    "    def disp_from_gatevoltage(self):\n",
    "        return self.Vg * (self.C / constants.hbar / self.omega)**.5 / 2.\n",
    "\n",
    "    def input_from_disp(self, g0=None):\n",
    "        k = self.kappa_in + self.kappa_out + self.kappa_loss\n",
    "        D = self.Delta_from_tau()\n",
    "        if g0 is None:\n",
    "            if not hasattr(self, 'g0'):\n",
    "                g0 = self.g0_from_circuit()\n",
    "            else:\n",
    "                g0 = self.g0\n",
    "        \n",
    "        return self.disp * (self.domega - 1j*k/2 + g0**2/(-D + 1j * self.gamma)) / (-1j*(self.kappa_in)**.5)\n",
    "    \n",
    "    def disp_from_input(self, g0=None):\n",
    "        k = self.kappa_in + self.kappa_out + self.kappa_loss\n",
    "        D = self.Delta_from_tau()\n",
    "        if g0 is None:\n",
    "            if not hasattr(self, 'g0'):\n",
    "                g0 = self.g0_from_circuit()\n",
    "            else:\n",
    "                g0 = self.g0\n",
    "        \n",
    "        top = -1j * self.kappa_in**.5 * self.input\n",
    "        bottom = self.domega - 1j*k/2.\n",
    "        try:\n",
    "            bottom += g0**2 / (-D + 1j*self.gamma)\n",
    "        except ZeroDivisionError:\n",
    "            pass\n",
    "        return  top / bottom\n",
    "    \n",
    "    def Delta_from_tau(self):\n",
    "        return self.tau - self.omega\n",
    "\n",
    "    def g0_from_circuit(self):\n",
    "        return constants.e * self.alpha * (constants.hbar * self.omega / self.C)**.5 / constants.hbar / 2.\n",
    "\n",
    "    def transmission(self, *arg, **kw):\n",
    "        return - self.kappa_out**.5 * self.disp_from_input(*arg, **kw)\n",
    "    \n",
    "    def reflection(self, *arg, **kw):\n",
    "        return - self.kappa_in**.5 * self.disp_from_input(*arg, **kw) + self.input\n",
    "#         return self.transmission(*arg, **kw) - self.input\n",
    "\n",
    "    def phaseshift_r(self):\n",
    "        r0 = get_reflection()\n",
    "        r1 = get_reflection(g0=0)\n",
    "        return np.angle(r0) - np.angle(r1)\n",
    "\n",
    "    def phaseshift_t(self):\n",
    "        r0 = get_transmission()\n",
    "        r1 = get_transmission(g0=0)\n",
    "        return np.angle(r0) - np.angle(r1)"
   ]
  },
  {
   "cell_type": "markdown",
   "metadata": {},
   "source": [
    "# Sanity checking the code"
   ]
  },
  {
   "cell_type": "code",
   "execution_count": 3,
   "metadata": {},
   "outputs": [
    {
     "name": "stdout",
     "output_type": "stream",
     "text": [
      "(2-0j)\n",
      "(0.5-0j)\n"
     ]
    }
   ],
   "source": [
    "gr = GatesensorResponse(domega=0, kappa_in=1, kappa_out=0, input=1)\n",
    "print(gr.disp_from_input())\n",
    "\n",
    "gr.disp = 1\n",
    "print(gr.input_from_disp())"
   ]
  },
  {
   "cell_type": "markdown",
   "metadata": {},
   "source": [
    "## Phase roll in reflection and transmission"
   ]
  },
  {
   "cell_type": "code",
   "execution_count": 4,
   "metadata": {},
   "outputs": [
    {
     "data": {
      "text/plain": [
       "[<matplotlib.lines.Line2D at 0x1e5ee3a2eb8>]"
      ]
     },
     "execution_count": 4,
     "metadata": {},
     "output_type": "execute_result"
    },
    {
     "data": {
      "image/png": "[encoded data removed]",
      "text/plain": [
       "<matplotlib.figure.Figure at 0x1e5e985b780>"
      ]
     },
     "metadata": {},
     "output_type": "display_data"
    },
    {
     "data": {
      "image/png": "[encoded data removed]",
      "text/plain": [
       "<matplotlib.figure.Figure at 0x1e5ee175ba8>"
      ]
     },
     "metadata": {},
     "output_type": "display_data"
    },
    {
     "data": {
      "image/png": "[encoded data removed]",
      "text/plain": [
       "<matplotlib.figure.Figure at 0x1e5ee0e4240>"
      ]
     },
     "metadata": {},
     "output_type": "display_data"
    }
   ],
   "source": [
    "k_in = twopi*1e6\n",
    "k_out = twopi*1e6\n",
    "k_loss = twopi*0.1e6\n",
    "k = k_in + k_out + k_loss\n",
    "\n",
    "gr = GatesensorResponse(omega=twopi*7e8, tau=twopi*1e10, alpha=0.8, C=0.3e-12,\n",
    "                        kappa_in=k_in, kappa_out=k_out, kappa_loss=k_loss, input=1)\n",
    "gr.domega = 5 * np.linspace(-k, k, 1001)\n",
    "\n",
    "t1 = gr.transmission()\n",
    "r1 = gr.reflection()\n",
    "\n",
    "fig, ax = plt.subplots(1,1)\n",
    "ax.plot(gr.domega / twopi, np.angle(t1, deg=True), 'o', ms=1)\n",
    "ax.plot(gr.domega / twopi, np.angle(r1, deg=True), 'o', ms=1)\n",
    "ax.axhline(-180, color='k', lw=1)\n",
    "ax.axhline(180, color='k', lw=1)\n",
    "\n",
    "fig, ax = plt.subplots(1,1)\n",
    "ax.plot(gr.domega / twopi, t1.real)\n",
    "ax.plot(gr.domega / twopi, t1.imag)\n",
    "ax.plot(gr.domega / twopi, r1.real)\n",
    "ax.plot(gr.domega / twopi, r1.imag)\n",
    "\n",
    "fig, ax = plt.subplots(1,1)\n",
    "ax.plot(gr.domega / twopi, np.abs(t1)**2)\n",
    "ax.plot(gr.domega / twopi, np.abs(r1)**2)\n",
    "ax.plot(gr.domega / twopi, np.abs(r1)**2 + np.abs(t1)**2, ':')"
   ]
  },
  {
   "cell_type": "code",
   "execution_count": null,
   "metadata": {
    "collapsed": true
   },
   "outputs": [],
   "source": []
  },
  {
   "cell_type": "markdown",
   "metadata": {
    "collapsed": true,
    "heading_collapsed": true
   },
   "source": [
    "## Try to reproduce phase shift from Petersson, 2012"
   ]
  },
  {
   "cell_type": "code",
   "execution_count": 6,
   "metadata": {
    "collapsed": true,
    "hidden": true
   },
   "outputs": [],
   "source": [
    "# C = 2e-12\n",
    "# tau = twopi * 7e9\n",
    "# alpha = 0.2\n",
    "# omega = twopi * 6200e6\n",
    "# Q = 2000\n",
    "\n",
    "# Delta = tau - omega\n",
    "# kappa = omega / Q\n",
    "# detvals = 5 * np.linspace(-kappa, kappa, 501)\n",
    "# g = get_g0(alpha, omega, C)\n",
    "# print(g * 1e-6 / twopi)\n",
    "\n",
    "# # t1 = get_transmission(detvals, kappa/10., kappa, 1., 0, Delta, 0)\n",
    "# # r1 = get_reflection(detvals, kappa, 0, 1., 0, Delta, 0)\n",
    "\n",
    "# dphi1 = get_phaseshift_r(detvals, kappa, 0, 1, g, Delta, 0 * twopi * 1e9)\n",
    "# dphi2 = get_phaseshift_t(detvals, kappa/100., kappa, 1, g, Delta, 0 * twopi * 1e9)\n",
    "\n",
    "# fig, ax = plt.subplots(1,1)\n",
    "# ax.plot(detvals / twopi * 1e-6, dphi1 * 180/np.pi, label='R')\n",
    "# ax.plot(detvals / twopi * 1e-6, dphi2 * 180/np.pi, label='T')\n",
    "# ax.legend(loc='lower right', fontsize='small')\n",
    "# ax.set_xlabel('Drive detuning (MHz)')\n",
    "# ax.set_ylabel('Phase shift (deg)')"
   ]
  },
  {
   "cell_type": "code",
   "execution_count": null,
   "metadata": {
    "collapsed": true,
    "hidden": true
   },
   "outputs": [],
   "source": []
  },
  {
   "cell_type": "code",
   "execution_count": 5,
   "metadata": {
    "collapsed": true,
    "hidden": true
   },
   "outputs": [],
   "source": [
    "# C = 0.3e-12\n",
    "# alpha = 0.8\n",
    "# omega = twopi * 0.6e9\n",
    "# Q = 50\n",
    "# domega = 0\n",
    "\n",
    "# # derived vals\n",
    "# kappa = omega / Q\n",
    "# g = get_g0(alpha, omega, C)\n",
    "\n",
    "# # grid vals\n",
    "# tauvals = twopi * np.linspace(1e9, 20e9, 101)\n",
    "# Deltavals = tauvals - omega\n",
    "\n",
    "# fig, ax = plt.subplots(1,1)\n",
    "# for gamma in np.pi * np.linspace(0, 10e9, 6):\n",
    "#     dphivals = get_phaseshift_r(domega, kappa, 0, 1, g, Deltavals, gamma)\n",
    "#     ax.plot(tauvals/twopi * 1e-9, dphivals * 180/np.pi, \n",
    "#             label='$\\gamma/\\pi$ = {:.0f} GHz'.format(gamma/np.pi * 1e-9))\n",
    "    \n",
    "# ax.set_ylim(-180, 0)\n",
    "# ax.set_xlabel('Tunnel coupling (GHz)')\n",
    "# ax.set_ylabel('Phase shift (deg)')\n",
    "# ax.legend(loc='lower right', fontsize='small')"
   ]
  },
  {
   "cell_type": "code",
   "execution_count": null,
   "metadata": {
    "collapsed": true,
    "hidden": true
   },
   "outputs": [],
   "source": []
  },
  {
   "cell_type": "markdown",
   "metadata": {},
   "source": [
    "## Colless"
   ]
  },
  {
   "cell_type": "code",
   "execution_count": 7,
   "metadata": {
    "collapsed": true
   },
   "outputs": [],
   "source": [
    "# C = 0.23e-12\n",
    "# alpha = 0.05\n",
    "# omega = twopi * 0.7e9\n",
    "# Q = 70\n",
    "# domega = 0\n",
    "\n",
    "# # derived vals\n",
    "# kappa = omega / Q\n",
    "# g = get_g0(alpha, omega, C)\n",
    "# L = 1/(omega**2*C)\n",
    "\n",
    "# # sweep vals\n",
    "# tauvals = twopi * np.linspace(10e9, 20e9, 20)\n",
    "# Deltavals = tauvals - omega\n",
    "# Cq_vals = get_Cq(alpha, tauvals-)\n",
    "\n",
    "# dphivals_Cq = phase_offset_hiQ(L, C, Cq_vals, Q)\n",
    "# dphivals = get_phaseshift_r(domega, kappa, 0, 1, g, Deltavals, 0)\n",
    "\n",
    "\n",
    "# fig, ax = plt.subplots(1,1)\n",
    "# ax.plot(tauvals/twopi * 1e-9, abs(dphivals * 180/np.pi))\n",
    "# ax.plot(tauvals/twopi * 1e-9, abs(dphivals_Cq * 180/np.pi))\n",
    "\n",
    "# ax.set_xlabel('Tunnel coupling (GHz)')\n",
    "# ax.set_ylabel('Phase shift (deg)')"
   ]
  },
  {
   "cell_type": "code",
   "execution_count": null,
   "metadata": {
    "collapsed": true
   },
   "outputs": [],
   "source": []
  },
  {
   "cell_type": "code",
   "execution_count": null,
   "metadata": {
    "collapsed": true
   },
   "outputs": [],
   "source": []
  },
  {
   "cell_type": "code",
   "execution_count": null,
   "metadata": {
    "collapsed": true
   },
   "outputs": [],
   "source": []
  },
  {
   "cell_type": "code",
   "execution_count": null,
   "metadata": {
    "collapsed": true
   },
   "outputs": [],
   "source": []
  },
  {
   "cell_type": "code",
   "execution_count": null,
   "metadata": {
    "collapsed": true
   },
   "outputs": [],
   "source": []
  },
  {
   "cell_type": "code",
   "execution_count": null,
   "metadata": {
    "collapsed": true
   },
   "outputs": [],
   "source": []
  },
  {
   "cell_type": "code",
   "execution_count": null,
   "metadata": {
    "collapsed": true
   },
   "outputs": [],
   "source": []
  }
 ],
 "metadata": {
  "hide_input": false,
  "kernelspec": {
   "display_name": "Python 3",
   "language": "python",
   "name": "python3"
  },
  "language_info": {
   "codemirror_mode": {
    "name": "ipython",
    "version": 3
   },
   "file_extension": ".py",
   "mimetype": "text/x-python",
   "name": "python",
   "nbconvert_exporter": "python",
   "pygments_lexer": "ipython3",
   "version": "3.6.2"
  },
  "toc": {
   "nav_menu": {},
   "number_sections": true,
   "sideBar": true,
   "skip_h1_title": false,
   "toc_cell": false,
   "toc_position": {
    "height": "1185px",
    "left": "0px",
    "right": "1446.75px",
    "top": "108px",
    "width": "292px"
   },
   "toc_section_display": "block",
   "toc_window_display": true
  }
 },
 "nbformat": 4,
 "nbformat_minor": 2
}
