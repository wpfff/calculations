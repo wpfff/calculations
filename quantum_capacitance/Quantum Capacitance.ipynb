{
 "cells": [
  {
   "cell_type": "raw",
   "metadata": {},
   "source": [
    "<script>\n",
    "  function code_toggle() {\n",
    "    if (code_shown){\n",
    "      $('div.input').hide('500');\n",
    "      $('#toggleButton').val('Show Code')\n",
    "    } else {\n",
    "      $('div.input').show('500');\n",
    "      $('#toggleButton').val('Hide Code')\n",
    "    }\n",
    "    code_shown = !code_shown\n",
    "  }\n",
    "\n",
    "  $( document ).ready(function(){\n",
    "    code_shown=false;\n",
    "    $('div.input').hide()\n",
    "  });\n",
    "</script>\n",
    "<form action=\"javascript:code_toggle()\"><input type=\"submit\" id=\"toggleButton\" value=\"Show Code\"></form>"
   ]
  },
  {
   "cell_type": "code",
   "execution_count": 1,
   "metadata": {
    "collapsed": true
   },
   "outputs": [],
   "source": [
    "import numpy as np\n",
    "from matplotlib import pyplot as plt\n",
    "import matplotlib as mpl\n",
    "from matplotlib import cm\n",
    "from matplotlib.colors import rgb2hex\n",
    "from scipy import constants\n",
    "import sympy as sp\n",
    "\n",
    "%matplotlib inline\n",
    "\n",
    "mpl.rcParams['savefig.dpi'] = 150\n",
    "mpl.rcParams['figure.dpi'] = 150\n",
    "mpl.rcParams['font.size'] = 8\n",
    "mpl.rcParams['font.family'] = 'Arial'"
   ]
  },
  {
   "cell_type": "code",
   "execution_count": 2,
   "metadata": {
    "collapsed": true
   },
   "outputs": [],
   "source": [
    "### plotting tools\n",
    "def get_color_cycle(n, colormap, start=0., stop=1., format='hex'):\n",
    "    if type(colormap) == str:\n",
    "        colormap = getattr(cm, colormap)\n",
    "\n",
    "    pts = np.linspace(start, stop, n)\n",
    "    if format == 'hex':\n",
    "        colors = [rgb2hex(colormap(pt)) for pt in pts]\n",
    "    return colors\n",
    "\n",
    "\n",
    "# tools for color plots\n",
    "def centers2edges(arr):\n",
    "    e = (arr[1:] + arr[:-1]) / 2.\n",
    "    e = np.concatenate(([arr[0] - (e[0] - arr[0])], e))\n",
    "    e = np.concatenate((e, [arr[-1] + (arr[-1] - e[-1])]))\n",
    "    return e\n",
    "\n",
    "\n",
    "def pcolorgrid(xaxis, yaxis):\n",
    "    xedges = centers2edges(xaxis)\n",
    "    yedges = centers2edges(yaxis)\n",
    "    xx, yy = np.meshgrid(xedges, yedges)\n",
    "    return xx, yy\n",
    "\n",
    "\n",
    "def ppcolormesh(ax, x, y, z, cmap=cm.viridis, make_grid=True, **kw):\n",
    "    if make_grid:\n",
    "        _x, _y = pcolorgrid(x, y)\n",
    "    else:\n",
    "        _x, _y = x, y\n",
    "\n",
    "    im = ax.pcolormesh(_x, _y, z, cmap=cmap, **kw)\n",
    "    ax.set_xlim(_x.min(), _x.max())\n",
    "    ax.set_ylim(_y.min(), _y.max())\n",
    "\n",
    "    return im"
   ]
  },
  {
   "cell_type": "code",
   "execution_count": null,
   "metadata": {
    "collapsed": true
   },
   "outputs": [],
   "source": []
  },
  {
   "cell_type": "markdown",
   "metadata": {
    "slideshow": {
     "slide_type": "-"
    }
   },
   "source": [
    "# Model description\n",
    "\n",
    "## Basic idea\n",
    "\n",
    "To test our ideas on quantum capacitance readout we use a double quantum dot in a reflectometry setup as depicted below. The quantum capacitance causes a shift in tank resonator frequency, which we detect as a phase shift in the reflected photons. In our toy model here we evaluate the shift between zero and full quantum capacitance, and compute an SNR based on signal photon number, phase shift from quantum capacitance, and noise photons.\n",
    "\n",
    "![Image](Concept_drawings.png)\n",
    "\n",
    "\n",
    "\n",
    "## Quantum capacitance\n",
    "\n",
    "We use a very simple model here, where we calculate the quantum capacitance from the tunneling rate between two quantum dots. It is given by\n",
    "\n",
    "$$\n",
    "    C_q = \\frac{\\alpha^2 e^2}{\\hbar t}, \n",
    "$$\n",
    "\n",
    "where $\\alpha$ is the lever arm of the sensing gate on the dot we measure on, and $t$ is the tunneling rate to the other dot. $t$ can of course also be a co-tunneling rate, the only important thing is that we consider a coherent charge tunneling rate here.\n",
    "\n",
    "\n",
    "## Reflected signal\n",
    "\n",
    "### High-Q regime\n",
    "\n",
    "Since we deal with Qs that are fairly high (even in the simple case they seem higher than a simple estimation of a series LC directly coupled to the tx-line suggests), we use an approximation for the reflection coefficient that doesn't require detailed circuit analysis (See Clerk et al., RMP 2010):\n",
    "\n",
    "$$\n",
    "    \\Gamma = \\frac{\\omega - \\omega_r + i\\omega_r/(2Q)}{\\omega-\\omega_r-i\\omega_r/(2Q)}\n",
    "$$\n",
    "\n",
    "$\\omega$ is the drive frequency, $\\omega_r$ is the resonance frequency, and $Q$ is the Q-factor of the oscillator, which is given by $Q = \\omega_r / \\kappa$, where $\\kappa$ is the **energy** decay rate.\n",
    "\n",
    "The signature of the quantum capacitance is then the phase shift between the reflection off the resonator with quantum capacitance present or not, i.e., between reflection using resonator frequencies $\\omega_{r,0}=(LC)^{-1/2}$ and $\\omega_{r,q} = (L(C+C_q))^{-1/2}$.\n",
    "\n",
    "\n",
    "## Relation to readout signal of an MZM qubit\n",
    "\n",
    "The readout of the quantum capacitance due to coherent tunnel coupling already gives us a good estimate for a MZM qubit readout. We can understand this as follows. The model for the qubit readout is that we have an interferometric coupling between two dots in the form of \n",
    "\n",
    "$$\n",
    "    \\omega_{DD} = \\left( \\epsilon^2 + (t_0 + \\sigma_z t_1)^2) \\right)^{1/2} \\approx t(1 + \\sigma_z) = \\pm t/2,\n",
    "$$\n",
    "\n",
    "where $t_{0,1}$ are the couplings through the two interferometer arms, and $\\sigma_z$ is the Pauli operator of the MZM qubit. Ideally we have $\\epsilon=0$ and $t_0 = t_1 \\equiv t$ during readout (see RHS). From this we can see that the maximal readout signal in reflection between $\\sigma_z = \\pm1$ is equivalent to the difference between zero and full quantum capacitance value.\n",
    "\n",
    "\n",
    "## Amplitude of the readout drive\n",
    "\n",
    "The readout scheme is based on the value of the interdot coupling beeing a function of the MZM parity operator. Importantly, during readout we probe the difference in phase response between two DD charge ground state configurations. We do not wish to excite the DD system during this readout, since the short lifetime of the excited states will lead to decoherence of the DD system (which will have backaction onto the qubit).\n",
    "\n",
    "If we're not far off resonance (i.e., in the limit of small $n_g$ for the RF drive) the drive can induce direct transitions. The Hamiltonian of the DD system in our model is (without drive) \n",
    "\n",
    "$$\n",
    "    H_{DD} = \\begin{pmatrix}\n",
    "        -\\epsilon/2 & t/2\\\\\n",
    "        t/2 & \\epsilon/2\n",
    "    \\end{pmatrix},\n",
    "$$\n",
    "\n",
    "i.e., a charge qubit formed by the DD. Close to resonance the quantization axis is given by the tunnel coupling, with DD eigenstates $|L\\rangle \\pm |R\\rangle$. The drive modulates the detuning, and the Hamiltonian in this frame is then (assuming lever arm of unity, i.e., worst case)\n",
    "\n",
    "$$\n",
    "    H_{DD} = t \\sigma_z^{DD} / 2 + eV_{RF} \\cos(\\omega t) \\sigma_x^{DD} / 2\\hbar. \n",
    "$$\n",
    "\n",
    "From this we can estimate the probability with which the drive maximally populates the excited state as\n",
    "\n",
    "$$\n",
    "    P_{exc} \\sim \\frac{(eV_{RF}/\\hbar)^2}{(eV_{RF}/\\hbar)^2 + (t-\\omega)^2}.\n",
    "$$\n",
    "\n",
    "That means we can estimate the maximal signal power when we put a threshold on $P_{exc}$, giving us a maximally tolerable gate voltage $V_{RF}^{max}$. From the circulating power in the resonator we can then estimate the signal power emitted from the resonator (with $\\kappa = \\omega/Q$) as\n",
    "\n",
    "$$\n",
    "    P_S = \\frac{1}{2} C V_{RF}^2 \\frac{\\omega}{Q}.\n",
    "$$\n",
    "\n",
    "\n",
    "## Sensitivity\n",
    "\n",
    "### Noise\n",
    "\n",
    "We assume we can describe the amount of noise just by a noise temperature $T_N$ of the detection chain. The noise power added to the reflected signal is then\n",
    "\n",
    "$$\n",
    "    P_N = T_N k_B G B,\n",
    "$$\n",
    "\n",
    "where $G$ is the gain, and $B$ is the bandwidth. From this we can then simply caclulate the flux of noise photons emitted alongside the signal.\n",
    "\n",
    "\n",
    "### SNR\n",
    "\n",
    "The number of signal photons is given by the product of the signal power, measurment time, and gain, divided by photon energy, $P_S T_m G / \\hbar\\omega$. Given a phase shift of $\\theta$ between two signal we want to discriminate, the separation between the signals is thus \n",
    "\n",
    "$$\n",
    "    \\Delta = \\sqrt{\\frac{P_S T_m G}{\\hbar \\omega}} \\sin(\\theta/2).\n",
    "$$\n",
    "\n",
    "Assuming $B \\approx 1/T_m$, the SNR is then simply given by\n",
    "\n",
    "$$\n",
    "    \\Delta/\\sigma = \\sqrt{\\frac{P_S T_m}{k_B T_N}} \\sin(\\theta/2)\n",
    "$$\n",
    "\n",
    "\n",
    "# TBD\n",
    "\n",
    "\n",
    "### exact role of Q\n",
    "\n",
    "* the low-Q model is based on a simple circuit but disagrees with experiments (which give higher Q than what we'd expect). I have ignored the low-Q case here because of that.\n",
    "* the high-Q model is based on only Q, but we don't have a circuit model (i.e., adding quantum capacitance is added to an 'effective capacitance'.\n",
    "* in other words, can we find a better model that takes into account Q, but also ensures we work with $C_q$ correctly.\n",
    "\n",
    "\n",
    "### DD excitation\n",
    "\n",
    "* how does that extend to real MZM qubits?\n",
    "* what exactly is the 'bad' stuff that happens when the DD system gets excited? In experiments so far we seem to still gain in SNR when we drive quite a bit harder than what we should be allowed to do with a 0.01 excitation probability.\n",
    "* so far this seems a worst case model -- should probably be refined."
   ]
  },
  {
   "cell_type": "code",
   "execution_count": 3,
   "metadata": {
    "collapsed": true
   },
   "outputs": [],
   "source": [
    "### Definitions\n",
    "\n",
    "twopi = np.pi * 2\n",
    "\n",
    "def volt2omega(V):\n",
    "    return constants.e * V / (constants.hbar)\n",
    "\n",
    "\n",
    "def volt2nbar(V, omega, C):\n",
    "    return C * (np.abs(V))**2 / (constants.hbar * omega)\n",
    "\n",
    "\n",
    "def volt2pwr(V, C, omega, Q):\n",
    "    return 0.5 * C * V**2 * omega / Q\n",
    "\n",
    "\n",
    "def dBm2pwr(dBm):\n",
    "    return 1e-3 * 10**(dBm/10)\n",
    "    \n",
    "\n",
    "def pwr2dBm(pwr):\n",
    "    return 10*np.log10(pwr/1e-3)\n",
    "\n",
    "\n",
    "def pwr2photonflux(pwr, omega):\n",
    "    return pwr / (constants.hbar * omega)\n",
    "\n",
    "\n",
    "def dBm2photonflux(dBm, omega):\n",
    "    return pwr2photonflux(dBm2pwr(dBm), omega)\n",
    "\n",
    "\n",
    "def noisepwr(T_N, B, G):\n",
    "    return constants.k * T_N * B * G\n",
    "\n",
    "\n",
    "def bose_einstein_nth(T_N, omega):\n",
    "    return (np.exp(constants.hbar * omega / (constants.k * T_N)) - 1)**(-1)\n",
    "\n",
    "\n",
    "def impedance(L, C, omega):\n",
    "    \"\"\"\n",
    "    Compute impedance for series LC circuit.\n",
    "    \"\"\"\n",
    "    Z = 1j*omega*L + 1/(1j*omega*C)\n",
    "    return Z\n",
    "\n",
    "\n",
    "def reflection(Z, Z_0):\n",
    "    \"\"\"\n",
    "    Compute the voltage reflection coefficient given load impedance and characteristic impedance.\n",
    "    \"\"\"\n",
    "    Gamma = (Z - Z_0)/(Z + Z_0)\n",
    "    return Gamma\n",
    "\n",
    "\n",
    "def phase_offset_loQ(L, Cp, Cq):\n",
    "    omega_r0 = 1/np.sqrt(L*Cp)\n",
    "    omega_rq = 1/np.sqrt(L*(Cp+Cq))\n",
    "    Z1 = impedance(L, Cp, omega_r0)\n",
    "    Z2 = impedance(L, Cp+Cq, omega_r0)\n",
    "    Gamma1 = reflection(Z1, 50)\n",
    "    Gamma2 = reflection(Z2, 50)\n",
    "    phase1 = np.angle(Gamma1, deg=False)\n",
    "    phase2 = np.angle(Gamma2, deg=False)\n",
    "    return phase1 - phase2\n",
    "\n",
    "\n",
    "def reflection_hiQ(omega, omega_r, Q):\n",
    "    \"\"\"\n",
    "    Compute the voltage reflection coefficient for the load being a high-Q resontor.\n",
    "    Inputs:\n",
    "        * omega : drive frequency\n",
    "        * omega_r : resonance frequency of the oscillator\n",
    "        * Q : Q-factor of the oscillator\n",
    "    \"\"\"\n",
    "    Gamma=(omega-omega_r+1j*omega_r/(2*Q))/(omega-omega_r-1j*omega_r/(2*Q))\n",
    "    return Gamma\n",
    "\n",
    "\n",
    "def phase_offset_hiQ(L, Cp, Cq, Q):\n",
    "    \"\"\"\n",
    "    Compute the phase in reflection that is due to quantum capacitance.\n",
    "    For Q >= 50, we use the high-Q approximation for the reflection coefficient,\n",
    "    otherwise we use the standard formula or Voltage reflection and assume a simple series LC resonator.\n",
    "    \"\"\"\n",
    "    omega_r0 = 1/np.sqrt(L*Cp)\n",
    "    omega_rq = 1/np.sqrt(L*(Cp+Cq))\n",
    "    Gamma1 = reflection_hiQ(omega_r0,omega_r0,Q)\n",
    "    Gamma2 = reflection_hiQ(omega_r0,omega_rq,Q)\n",
    "    phase1 = np.angle(Gamma1, deg=False)\n",
    "    phase2 = np.angle(Gamma2, deg=False)\n",
    "    return phase1 - phase2\n",
    "\n",
    "\n",
    "def Cq(alpha, t):\n",
    "    \"\"\"\n",
    "    Compute the quantum capacitance given lever arm alpha and tunnel coupling t.\n",
    "    \"\"\"\n",
    "    return alpha**2 * constants.e**2 / (constants.hbar * t)\n",
    "\n",
    "\n",
    "def DD_excitation_probability(omega, V_RF, t):\n",
    "    \"\"\"\n",
    "    Compute the excited state probability when driving with V_RF on a DD system near resonance.\n",
    "    Inputs:\n",
    "        * omega : drive frequency\n",
    "        * V_RF : drive amplitude in volts\n",
    "        * t : tunnel coupling\n",
    "    \"\"\"\n",
    "    frabi = volt2omega(V_RF)\n",
    "    return frabi**2 / (frabi**2 + (t-omega)**2)\n",
    "\n",
    "\n",
    "def max_V(t, omega, p_max=0.01):\n",
    "    \"\"\"\n",
    "    Compute the maximal drive voltage amplitude that results in at most p_max excitation.\n",
    "    \"\"\"\n",
    "    return ((p_max * (t-omega)**2)/ ((constants.e/constants.hbar)**2 * (1.-p_max)))**(0.5)\n",
    "\n",
    "\n",
    "def SNR(phaseshift, signal_power, T_m, T_N):\n",
    "    return np.sin(phaseshift/2.) * (signal_power * T_m / constants.k / T_N)**.5"
   ]
  },
  {
   "cell_type": "code",
   "execution_count": null,
   "metadata": {
    "collapsed": true
   },
   "outputs": [],
   "source": []
  },
  {
   "cell_type": "code",
   "execution_count": null,
   "metadata": {
    "collapsed": true
   },
   "outputs": [],
   "source": []
  },
  {
   "cell_type": "code",
   "execution_count": null,
   "metadata": {
    "collapsed": true
   },
   "outputs": [],
   "source": []
  },
  {
   "cell_type": "code",
   "execution_count": null,
   "metadata": {
    "collapsed": true
   },
   "outputs": [],
   "source": []
  },
  {
   "cell_type": "code",
   "execution_count": 15,
   "metadata": {
    "scrolled": false
   },
   "outputs": [
    {
     "data": {
      "text/plain": [
       "<matplotlib.text.Text at 0x2467e1e9208>"
      ]
     },
     "execution_count": 15,
     "metadata": {},
     "output_type": "execute_result"
    },
    {
     "data": {
      "image/png": "[encoded data removed]",
      "text/plain": [
       "<matplotlib.figure.Figure at 0x2467dda5b00>"
      ]
     },
     "metadata": {},
     "output_type": "display_data"
    },
    {
     "data": {
      "image/png": "[encoded data removed]",
      "text/plain": [
       "<matplotlib.figure.Figure at 0x2467e1c7518>"
      ]
     },
     "metadata": {},
     "output_type": "display_data"
    }
   ],
   "source": [
    "Cp = 300e-15 # 0.3e-12\n",
    "alpha = 0.8\n",
    "\n",
    "t = twopi * np.array([5e9, 10e9, 15e9, 20e9])\n",
    "w = twopi * np.arange(0.2, 6.1, 0.2) * 1e9\n",
    "Q = np.linspace(50, 100, 11)\n",
    "\n",
    "ww, QQ, tt = np.meshgrid(w, Q, t, indexing='ij')\n",
    "\n",
    "L_vals = 1/(ww**2*Cp)\n",
    "Cq_vals = Cq(alpha, tt)\n",
    "phi_vals = phase_offset_hiQ(L_vals, Cp, Cq_vals, QQ)\n",
    "\n",
    "\n",
    "fig, ax = plt.subplots(1, 1, figsize=(3, 2))\n",
    "ax.plot(t/twopi * 1e-9, Cq_vals[0,0,:] * 1e15, 'o-', ms=3)\n",
    "ax.set_xlabel('$t/2\\pi$ (GHz)')\n",
    "ax.set_ylabel('Cq (fF)')\n",
    "\n",
    "\n",
    "colors = get_color_cycle(n=t.size, colormap=cm.viridis, start=0, stop=0.9)\n",
    "fig, ax = plt.subplots(1, 1, figsize=(3, 2))\n",
    "for i, tval in enumerate(t):\n",
    "    ax.plot(Q, phi_vals[0, :, i] * 180 / np.pi, 'o-', \n",
    "            mec='None', ms=4, color=colors[i],\n",
    "            label=f't/2$\\pi$ = {tval/twopi*1e-9:.0f} GHz')\n",
    "    \n",
    "ax.set_ylim(0, None)\n",
    "ax.legend(loc='lower right', fontsize='small')\n",
    "ax.set_xlabel('Q')\n",
    "ax.set_ylabel('phase shift (deg)')"
   ]
  },
  {
   "cell_type": "markdown",
   "metadata": {},
   "source": [
    "That is as expected of course. Similarly, our phase shift would increase if we were able to decrease the resonator capacitance (since the ratio $C_q/C_p$ increases)."
   ]
  },
  {
   "cell_type": "code",
   "execution_count": null,
   "metadata": {
    "collapsed": true
   },
   "outputs": [],
   "source": [
    "t = twopi * 20e9\n",
    "Q = 50\n",
    "alpha = 0.8\n",
    "w = twopi * 0.5e9\n",
    "Cq_val = Cq(alpha, t)\n",
    "\n",
    "Cp_vals = np.linspace(0.01e-12, 0.3e-12, 11)\n",
    "L_vals = 1/(w**2*Cp_vals)\n",
    "phi_vals = phase_offset_hiQ(L_vals, Cp_vals, Cq_val, Q)\n",
    "\n",
    "fig, ax = plt.subplots(1, 1, figsize=(3, 2))\n",
    "ax.plot(Cp_vals * 1e15, phi_vals * 180 / np.pi, 'o-', ms=3)\n",
    " \n",
    "ax.set_xlabel('Tank circuit capacitance (fF)')\n",
    "ax.set_ylabel('Phase shift (deg)')"
   ]
  },
  {
   "cell_type": "markdown",
   "metadata": {
    "collapsed": true
   },
   "source": [
    "Some things scale in the opposite direction though: Larger tunneling amplitude allows for harder driving, i.e., more signal photons:"
   ]
  },
  {
   "cell_type": "code",
   "execution_count": null,
   "metadata": {
    "collapsed": true
   },
   "outputs": [],
   "source": [
    "alpha = 0.8\n",
    "w = twopi * 0.5e9\n",
    "\n",
    "t = twopi * np.array([5e9, 10e9, 15e9, 20e9])\n",
    "Cp = np.linspace(0.01e-12, 0.3e-12, 11)\n",
    "Q = np.linspace(50, 1000, 16)\n",
    "CC, QQ, tt = np.meshgrid(Cp, Q, t, indexing='ij')\n",
    "\n",
    "L_vals = 1/(w**2*CC)\n",
    "Cq_vals = Cq(alpha, tt)\n",
    "phi_vals = phase_offset_hiQ(L_vals, CC, Cq_vals, QQ)\n",
    "max_V_vals = max_V(tt, w)\n",
    "max_nbar_vals = volt2nbar(max_V_vals, w, CC)\n",
    "\n",
    "fig, ax = plt.subplots(1, 1, figsize=(3,2))\n",
    "ax.plot(t/twopi * 1e-9, max_V_vals[0, 0, :] * 1e6, 'o-', ms=3)\n",
    "ax.set_ylabel(r'Max. $V_g$ ($\\mu$V)')\n",
    "ax.set_xlabel('$t/2\\pi$ (GHz)')\n",
    "\n",
    "\n",
    "colors = get_color_cycle(n=t.size, colormap=cm.viridis, start=0, stop=0.9)\n",
    "fig, ax = plt.subplots(1, 1, figsize=(3, 2))\n",
    "for i, tval in enumerate(t):\n",
    "    ax.plot(Cp * 1e15, max_nbar_vals[:, 0, i], 'o-', \n",
    "            mec='None', ms=4, color=colors[i],\n",
    "            label=f't/2$\\pi$ = {tval/twopi*1e-9:.0f} GHz')\n",
    "    \n",
    "ax.set_ylabel('Max. circulating photons')\n",
    "ax.set_xlabel('Tank circuit capacitance (fF)')\n",
    "ax.legend(loc='upper left', fontsize='small')"
   ]
  },
  {
   "cell_type": "code",
   "execution_count": null,
   "metadata": {
    "collapsed": true
   },
   "outputs": [],
   "source": [
    "# signal_pwr = volt2pwr(max_V_vals, CC, w, QQ)\n",
    "# signal_dBm = pwr2dBm(signal_pwr)\n",
    "\n",
    "# tidx = 1\n",
    "# tval = t[tidx]\n",
    "\n",
    "# fig, ax = plt.subplots(1, 1, figsize=(3, 2))\n",
    "# im = mplplots.ppcolormesh(ax, Cp * 1e15, Q, signal_dBm[:,:,tidx].T)\n",
    "# cb = fig.colorbar(im)\n",
    "\n",
    "# ax.set_xlabel('Tank circuit capacitance (fF)')\n",
    "# ax.set_ylabel('Tank circuit Q')\n",
    "# cb.set_label('Signal power (dBm)')"
   ]
  },
  {
   "cell_type": "markdown",
   "metadata": {
    "collapsed": true
   },
   "source": [
    "## SNR\n",
    "\n",
    "Now, we plug everything together to get an SNR; we generally are interested in getting to a measurement time of about a microsecond, so we evaluate the SNR for that.\n",
    "\n",
    "### Current params\n",
    "\n",
    "First look at 'current' parameters again (typically $C_p$ = 300 fF):\n",
    "\n",
    "* $f_0$ = 500 MHz\n",
    "* $\\alpha$ = 0.8\n",
    "* $T_N$ = 3.0 K\n",
    "\n",
    "The low-ish SNR here is due to the imposed amplitude limit on the drive; in current experiments where we are not yet worried about back-action onto an MZM-qubit we drive much harder."
   ]
  },
  {
   "cell_type": "code",
   "execution_count": null,
   "metadata": {
    "collapsed": true
   },
   "outputs": [],
   "source": [
    "from mpl_toolkits.axes_grid1 import ImageGrid\n",
    "\n",
    "T_m = 1e-6\n",
    "T_N = 3.0\n",
    "\n",
    "signal_pwr = volt2pwr(max_V_vals, CC, w, QQ)\n",
    "signal_dBm = pwr2dBm(signal_pwr)\n",
    "snr_vals = SNR(phi_vals, signal_pwr, T_m, T_N)\n",
    "\n",
    "for i, tval in enumerate(t):\n",
    "    fig, ax = plt.subplots(1, 1, figsize=(2, 1.5))\n",
    "    im = ppcolormesh(ax, Cp*1e15, Q, snr_vals[:, :, i].T)\n",
    "    cb = fig.colorbar(im)\n",
    "    ax.set_xlabel('Tank circuit capacitance (fF)')\n",
    "    ax.set_ylabel('Tank circuit Q')\n",
    "    ax.set_title(f't/2$\\pi$ = {tval/twopi*1e-9:.0f} GHz', size='small')\n",
    "    cb.set_label(r'SNR in 1 $\\mu$s')"
   ]
  },
  {
   "cell_type": "code",
   "execution_count": null,
   "metadata": {
    "collapsed": true
   },
   "outputs": [],
   "source": []
  },
  {
   "cell_type": "code",
   "execution_count": null,
   "metadata": {
    "collapsed": true
   },
   "outputs": [],
   "source": []
  },
  {
   "cell_type": "code",
   "execution_count": null,
   "metadata": {
    "collapsed": true
   },
   "outputs": [],
   "source": []
  },
  {
   "cell_type": "code",
   "execution_count": null,
   "metadata": {
    "collapsed": true
   },
   "outputs": [],
   "source": []
  },
  {
   "cell_type": "code",
   "execution_count": null,
   "metadata": {
    "collapsed": true
   },
   "outputs": [],
   "source": []
  },
  {
   "cell_type": "code",
   "execution_count": 6,
   "metadata": {},
   "outputs": [
    {
     "data": {
      "text/plain": [
       "406.5040650406504"
      ]
     },
     "execution_count": 6,
     "metadata": {},
     "output_type": "execute_result"
    }
   ],
   "source": [
    "5e3 / 12.3"
   ]
  },
  {
   "cell_type": "code",
   "execution_count": null,
   "metadata": {
    "collapsed": true
   },
   "outputs": [],
   "source": []
  }
 ],
 "metadata": {
  "hide_input": false,
  "kernelspec": {
   "display_name": "Python 3",
   "language": "python",
   "name": "python3"
  },
  "language_info": {
   "codemirror_mode": {
    "name": "ipython",
    "version": 3
   },
   "file_extension": ".py",
   "mimetype": "text/x-python",
   "name": "python",
   "nbconvert_exporter": "python",
   "pygments_lexer": "ipython3",
   "version": "3.6.2"
  },
  "toc": {
   "nav_menu": {},
   "number_sections": true,
   "sideBar": true,
   "skip_h1_title": false,
   "toc_cell": false,
   "toc_position": {},
   "toc_section_display": "block",
   "toc_window_display": false
  }
 },
 "nbformat": 4,
 "nbformat_minor": 2
}
