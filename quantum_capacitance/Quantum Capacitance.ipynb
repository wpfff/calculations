{
 "cells": [
  {
   "cell_type": "code",
   "execution_count": 1,
   "metadata": {
    "collapsed": true
   },
   "outputs": [],
   "source": [
    "import numpy as np\n",
    "from matplotlib import pyplot as plt\n",
    "import matplotlib as mpl\n",
    "from scipy import constants\n",
    "import sympy as sp\n",
    "\n",
    "%matplotlib inline\n",
    "\n",
    "mpl.rcParams['savefig.dpi'] = 150\n",
    "mpl.rcParams['figure.dpi'] = 150\n",
    "mpl.rcParams['font.size'] = 8\n",
    "mpl.rcParams['font.family'] = 'Arial'"
   ]
  },
  {
   "cell_type": "code",
   "execution_count": null,
   "metadata": {
    "collapsed": true
   },
   "outputs": [],
   "source": []
  },
  {
   "cell_type": "markdown",
   "metadata": {},
   "source": [
    "# Model description\n",
    "\n",
    "## Basic idea\n",
    "\n",
    "TBD\n",
    "\n",
    "## Quantum capacitance\n",
    "\n",
    "We use a very simple model here, where we calculate the quantum capacitance from the tunneling rate between two quantum dots. It is given by\n",
    "\n",
    "$$\n",
    "    C_q = \\frac{\\alpha^2 e^2}{t}, \n",
    "$$\n",
    "\n",
    "where $\\alpha$ is the lever arm of the sensing gate on the dot we measure on, and $t$ is the tunneling rate to the other dot. $t$ can of course also be a co-tunneling rate, the only important thing is that we consider a coherent charge tunneling rate here.\n",
    "\n",
    "\n",
    "## Reflected signal\n",
    "\n",
    "### High-Q regime\n",
    "\n",
    "Since we deal with Qs that are fairly high (even in the simple case they seem higher than a simple estimation of a series LC directly coupled to the tx-line suggests), we use an approximation for the reflection coefficient that doesn't require detailed circuit analysis (See Clerk et al., RMP 2010):\n",
    "\n",
    "$$\n",
    "    \\Gamma = \\frac{\\omega - \\omega_r + i\\omega_r/(4Q)}{\\omega-\\omega_r-i\\omega_r/(4Q)}\n",
    "$$\n",
    "\n",
    "$\\omega$ is the drive frequency, $\\omega_r$ is the resonance frequency, and $Q$ is the Q-factor of the oscillator, which is given by $Q = \\omega_r / \\kappa$, where $\\kappa$ is the **energy** decay rate.\n",
    "\n",
    "The signature of the quantum capacitance is then the phase shift between the reflection off the resonator with quantum capacitance present or not, i.e., between reflection using resonator frequencies $\\omega_{r,0}=(LC)^{-1/2}$ and $\\omega_{r,q} = (L(C+C_q))^{-1/2}$.\n",
    "\n",
    "\n",
    "## Relation to readout signal of an MZM qubit\n",
    "\n",
    "The readout of the quantum capacitance due to coherent tunnel coupling already gives us a good estimate for a MZM qubit readout. We can understand this as follows. The model for the qubit readout is that we have an interferometric coupling between two dots in the form of \n",
    "\n",
    "$$\n",
    "    \\omega_{DD} = \\left( \\epsilon^2 + (t_0 + \\sigma_z t_1)^2) \\right)^{1/2} \\approx t(1 + \\sigma_z) = \\pm t/2,\n",
    "$$\n",
    "\n",
    "where $t_{0,1}$ are the couplings through the two interferometer arms, and $\\sigma_z$ is the Pauli operator of the MZM qubit. Ideally we have $\\epsilon=0$ and $t_0 = t_1 \\equiv t$ during readout (see RHS). From this we can see that the maximal readout signal in reflection between $\\sigma_z = \\pm1$ is equivalent to the difference between zero and full quantum capacitance value.\n",
    "\n",
    "\n",
    "## Amplitude of the readout drive\n",
    "\n",
    "The readout scheme is based on the value of the interdot coupling beeing a function of the MZM parity operator. Importantly, during readout we probe the difference in phase response between two DD charge ground state configurations. We do not wish to excite the DD system during this readout, since the short lifetime of the excited states will lead to decoherence of the DD system (which will have backaction onto the qubit).\n",
    "\n",
    "If we're not far off resonance (i.e., in the limit of small $n_g$ for the RF drive) the drive can induce direct transitions. The Hamiltonian of the DD system in our model is (without drive) \n",
    "\n",
    "$$\n",
    "    H_{DD} = \\begin{pmatrix}\n",
    "        -\\epsilon/2 & t/2\\\\\n",
    "        t/2 & \\epsilon/2\n",
    "    \\end{pmatrix},\n",
    "$$\n",
    "\n",
    "i.e., a charge qubit formed by the DD. Close to resonance the quantization axis is given by the tunnel coupling, with DD eigenstates $|L\\rangle \\pm |R\\rangle$. The drive modulates the detuning, and the Hamiltonian in this frame is then (assuming lever arm of unity, i.e., worst case)\n",
    "\n",
    "$$\n",
    "    H_{DD} = t \\sigma_z^{DD} / 2 + eV_{RF} \\cos(\\omega t) \\sigma_x^{DD} / 2\\hbar. \n",
    "$$\n",
    "\n",
    "From this we can estimate the probability with which the drive maximally populates the excited state as\n",
    "\n",
    "$$\n",
    "    P_{exc} \\sim \\frac{(eV_{RF}/\\hbar)^2}{(eV_{RF}/\\hbar)^2 + (t-\\omega)^2}.\n",
    "$$\n",
    "\n",
    "That means we can estimate the maximal signal power when we put a threshold on $P_exc$, giving us a maximally tolerable gate voltage $V_{RF}^{max}$. From the circulating power in the resonator we can then estimate the signal power emitted from the resonator (with $\\kappa = \\omega/Q$) as\n",
    "\n",
    "$$\n",
    "    P_S = \\frac{1}{2} C V_{RF}^2 \\frac{\\omega}{Q}.\n",
    "$$\n",
    "\n",
    "\n",
    "## Sensitivity\n",
    "\n",
    "### Noise\n",
    "\n",
    "We assume we can describe the amount of noise just by a noise temperature $T_N$ of the detection chain. The noise power added to the reflected signal is then\n",
    "\n",
    "$$\n",
    "    P_N = T_N k_B G B,\n",
    "$$\n",
    "\n",
    "where $G$ is the gain, and $B$ is the bandwidth. From this we can then simply caclulate the flux of noise photons emitted alongside the signal.\n",
    "\n",
    "\n",
    "### SNR\n",
    "\n",
    "The number of signal photons is given by the product of the signal power, measurment time, and gain, divided by photon energy, $P_S T_m G / \\hbar\\omega$. Given a phase shift of $\\theta$ between two signal we want to discriminate, the separation between the signals is thus \n",
    "\n",
    "$$\n",
    "    \\Delta = \\sqrt{\\frac{P_S T_m G}{\\hbar \\omega}} \\sin(\\theta/2).\n",
    "$$\n",
    "\n",
    "Assuming $B \\approx 1/T_m$, the SNR is then simply given by\n",
    "\n",
    "$$\n",
    "    \\Delta/\\sigma = \\sqrt{\\frac{P_S T_m}{k_B T_N}} \\sin(\\theta/2)\n",
    "$$\n",
    "\n",
    "\n",
    "# TBD\n",
    "\n",
    "\n",
    "### exact role of Q\n",
    "\n",
    "* the low-Q model is based on a simple circuit but disagrees with experiments (which give higher Q than what we'd expect). I have ignored the low-Q case here because of that.\n",
    "* the high-Q model is based on only Q, but we don't have a circuit model (i.e., adding quantum capacitance is added to an 'effective capacitance'.\n",
    "* in other words, can we find a better model that takes into account Q, but also ensures we work with $C_q$ correctly.\n",
    "\n",
    "\n",
    "### DD excitation\n",
    "\n",
    "* how does that extend to real MZM qubits?\n",
    "* what exactly is the 'bad' stuff that happens when the DD system gets excited? In experiments so far we seem to still gain in SNR when we drive quite a bit harder than what we should be allowed to do with a 0.01 excitation probability.\n",
    "* so far this seems a worst case model -- should probably be refined."
   ]
  },
  {
   "cell_type": "code",
   "execution_count": 22,
   "metadata": {
    "collapsed": true
   },
   "outputs": [],
   "source": [
    "twopi = np.pi * 2"
   ]
  },
  {
   "cell_type": "code",
   "execution_count": 43,
   "metadata": {
    "collapsed": true
   },
   "outputs": [],
   "source": [
    "def volt2omega(V):\n",
    "    return constants.e * V / (constants.hbar)\n",
    "\n",
    "\n",
    "def volt2nbar(V, omega, C):\n",
    "    return C * (np.abs(V))**2 / (constants.hbar * omega)\n",
    "\n",
    "\n",
    "def volt2pwr(V, C, omega, Q):\n",
    "    return 0.5 * C * V**2 * omega / Q\n",
    "\n",
    "\n",
    "def dBm2pwr(dBm):\n",
    "    return 1e-3 * 10**(dBm/10)\n",
    "    \n",
    "\n",
    "def pwr2dBm(pwr):\n",
    "    return 10*np.log10(pwr/1e-3)\n",
    "\n",
    "\n",
    "def pwr2photonflux(pwr, omega):\n",
    "    return pwr / (constants.hbar * omega)\n",
    "\n",
    "\n",
    "def dBm2photonflux(dBm, omega):\n",
    "    return pwr2photonflux(dBm2pwr(dBm), omega)\n",
    "\n",
    "\n",
    "def noisepwr(T_N, B, G):\n",
    "    return constants.k * T_N * B * G\n",
    "\n",
    "\n",
    "def bose_einstein_nth(T_N, omega):\n",
    "    return (np.exp(constants.hbar * omega / (constants.k * T_N)) - 1)**(-1)\n",
    "\n",
    "\n",
    "def impedance(L, C, omega):\n",
    "    \"\"\"\n",
    "    Compute impedance for series LC circuit.\n",
    "    \"\"\"\n",
    "    Z = 1j*omega*L + 1/(1j*omega*C)\n",
    "    return Z\n",
    "\n",
    "\n",
    "def reflection(Z, Z_0):\n",
    "    \"\"\"\n",
    "    Compute the voltage reflection coefficient given load impedance and characteristic impedance.\n",
    "    \"\"\"\n",
    "    Gamma = (Z - Z_0)/(Z + Z_0)\n",
    "    return Gamma\n",
    "\n",
    "\n",
    "def phase_offset_loQ(L, Cp, Cq):\n",
    "    omega_r0 = 1/np.sqrt(L*Cp)\n",
    "    omega_rq = 1/np.sqrt(L*(Cp+Cq))\n",
    "    Z1 = impedance(L, Cp, omega_r0)\n",
    "    Z2 = impedance(L, Cp+Cq, omega_r0)\n",
    "    Gamma1 = reflection(Z1, 50)\n",
    "    Gamma2 = reflection(Z2, 50)\n",
    "    phase1 = np.angle(Gamma1, deg=False)\n",
    "    phase2 = np.angle(Gamma2, deg=False)\n",
    "    return phase1 - phase2\n",
    "\n",
    "\n",
    "def reflection_hiQ(omega, omega_r, Q):\n",
    "    \"\"\"\n",
    "    Compute the voltage reflection coefficient for the load being a high-Q resontor.\n",
    "    Inputs:\n",
    "        * omega : drive frequency\n",
    "        * omega_r : resonance frequency of the oscillator\n",
    "        * Q : Q-factor of the oscillator\n",
    "    \"\"\"\n",
    "    Gamma=(omega-omega_r+1j*omega_r/(4*Q))/(omega-omega_r-1j*omega_r/(4*Q))\n",
    "    return Gamma\n",
    "\n",
    "\n",
    "def phase_offset_hiQ(L, Cp, Cq, Q):\n",
    "    \"\"\"\n",
    "    Compute the phase in reflection that is due to quantum capacitance.\n",
    "    For Q >= 50, we use the high-Q approximation for the reflection coefficient,\n",
    "    otherwise we use the standard formula or Voltage reflection and assume a simple series LC resonator.\n",
    "    \"\"\"\n",
    "    omega_r0 = 1/np.sqrt(L*Cp)\n",
    "    omega_rq = 1/np.sqrt(L*(Cp+Cq))\n",
    "    Gamma1 = reflection_hiQ(omega_r0,omega_r0,Q)\n",
    "    Gamma2 = reflection_hiQ(omega_r0,omega_rq,Q)\n",
    "    phase1 = np.angle(Gamma1, deg=False)\n",
    "    phase2 = np.angle(Gamma2, deg=False)\n",
    "    return phase1 - phase2\n",
    "\n",
    "\n",
    "def Cq(alpha, t):\n",
    "    \"\"\"\n",
    "    Compute the quantum capacitance given lever arm alpha and tunnel coupling t.\n",
    "    \"\"\"\n",
    "    return alpha**2 * constants.e**2 / (constants.hbar * t)\n",
    "\n",
    "\n",
    "def DD_excitation_probability(omega, V_RF, t):\n",
    "    \"\"\"\n",
    "    Compute the excited state probability when driving with V_RF on a DD system near resonance.\n",
    "    Inputs:\n",
    "        * omega : drive frequency\n",
    "        * V_RF : drive amplitude in volts\n",
    "        * t : tunnel coupling\n",
    "    \"\"\"\n",
    "    frabi = volt2omega(V_RF)\n",
    "    return frabi**2 / (frabi**2 + (t-omega)**2)\n",
    "\n",
    "\n",
    "def max_V(t, omega, p_max=0.01):\n",
    "    \"\"\"\n",
    "    Compute the maximal drive voltage amplitude that results in at most p_max excitation.\n",
    "    \"\"\"\n",
    "    return ((p_max * (t-omega)**2)/ ((constants.e/constants.hbar)**2 * (1.-p_max)))**(0.5)\n",
    "\n",
    "\n",
    "def SNR(phaseshift, signal_power, T_m, T_N):\n",
    "    return np.sin(phaseshift/2.) * (signal_power * T_m / constants.k / T_N)**.5"
   ]
  },
  {
   "cell_type": "code",
   "execution_count": null,
   "metadata": {
    "collapsed": true
   },
   "outputs": [],
   "source": []
  },
  {
   "cell_type": "code",
   "execution_count": 44,
   "metadata": {},
   "outputs": [],
   "source": [
    "Cp = 0.3e-12\n",
    "alpha = 0.8\n",
    "\n",
    "t = twopi * np.array([10e9, 15e9, 20e9])\n",
    "omega = twopi * np.arange(0.2, 6.1, 0.2) * 1e9\n",
    "Q = np.linspace(50, 5000, 11)\n",
    "\n",
    "ww, QQ, tt = np.meshgrid(omega, Q, t, indexing='ij')\n",
    "\n",
    "L_vals = 1/(ww**2*Cp)\n",
    "Cq_vals = Cq(alpha, tt)\n",
    "phi_vals = phase_offset_hiQ(L_vals, Cp, Cq_vals, QQ)\n",
    "\n",
    "for i, tval in enumerate(t):\n",
    "    fig, ax = plt.subplots(1,1)"
   ]
  },
  {
   "cell_type": "code",
   "execution_count": null,
   "metadata": {
    "collapsed": true
   },
   "outputs": [],
   "source": []
  },
  {
   "cell_type": "code",
   "execution_count": null,
   "metadata": {
    "collapsed": true
   },
   "outputs": [],
   "source": []
  },
  {
   "cell_type": "code",
   "execution_count": null,
   "metadata": {
    "collapsed": true
   },
   "outputs": [],
   "source": []
  },
  {
   "cell_type": "code",
   "execution_count": null,
   "metadata": {
    "collapsed": true
   },
   "outputs": [],
   "source": []
  },
  {
   "cell_type": "code",
   "execution_count": null,
   "metadata": {
    "collapsed": true
   },
   "outputs": [],
   "source": []
  },
  {
   "cell_type": "code",
   "execution_count": null,
   "metadata": {
    "collapsed": true
   },
   "outputs": [],
   "source": []
  },
  {
   "cell_type": "code",
   "execution_count": null,
   "metadata": {
    "collapsed": true
   },
   "outputs": [],
   "source": []
  },
  {
   "cell_type": "code",
   "execution_count": 42,
   "metadata": {},
   "outputs": [
    {
     "data": {
      "text/plain": [
       "2.1166632685366795"
      ]
     },
     "execution_count": 42,
     "metadata": {},
     "output_type": "execute_result"
    }
   ],
   "source": [
    "SNR(100 * np.pi/180., dBm2pwr(-125), 1e-6, 3.0)"
   ]
  },
  {
   "cell_type": "code",
   "execution_count": 65,
   "metadata": {},
   "outputs": [
    {
     "name": "stdout",
     "output_type": "stream",
     "text": [
      "-91.5864701296\n",
      "2094724.7325488857\n"
     ]
    }
   ],
   "source": [
    "pn = noisepwr(4.0, twopi*2e6, 1000)\n",
    "print(pwr2dBm(pn))\n",
    "print(pwr2photonflux(pn, twopi*500e6) * 1e-6)"
   ]
  },
  {
   "cell_type": "code",
   "execution_count": 66,
   "metadata": {},
   "outputs": [
    {
     "name": "stdout",
     "output_type": "stream",
     "text": [
      "-85.0\n",
      "9544956.938512469\n"
     ]
    }
   ],
   "source": [
    "sig = dBm2pwr(-115) * 1000\n",
    "print(pwr2dBm(sig))\n",
    "print(pwr2photonflux(sig, twopi*500e6) * 1e-6)"
   ]
  },
  {
   "cell_type": "code",
   "execution_count": 67,
   "metadata": {},
   "outputs": [
    {
     "name": "stdout",
     "output_type": "stream",
     "text": [
      "9544956.93851\n",
      "1447.3163899261576\n"
     ]
    },
    {
     "data": {
      "text/plain": [
       "6594.9346009958845"
      ]
     },
     "execution_count": 67,
     "metadata": {},
     "output_type": "execute_result"
    }
   ],
   "source": [
    "SNR(np.pi, twopi*0.5e9, dBm2pwr(-115), 1e-6, 4.0, twopi*2e6, 1000)"
   ]
  },
  {
   "cell_type": "code",
   "execution_count": 12,
   "metadata": {},
   "outputs": [
    {
     "data": {
      "text/plain": [
       "array([ 410.9336039 ,  290.57393794,  237.25262683,  205.46680195,\n",
       "        183.77509451,  167.76294129])"
      ]
     },
     "execution_count": 12,
     "metadata": {},
     "output_type": "execute_result"
    }
   ],
   "source": [
    "alpha = 0.8\n",
    "t = twopi * 20e9\n",
    "Cp = 0.3e-12\n",
    "Q = 50\n",
    "T_N = 3.0\n",
    "\n",
    "omega_vals = twopi * np.linspace(0.5, 3, 6) * 1e9\n",
    "L_vals = (omega_vals**2 * Cp)**(-1)\n",
    "\n",
    "Cq_vals = Cq(alpha, t)\n",
    "phase_vals = phase_offset_hiQ(L_vals, Cp, Cq_vals, Q)\n",
    "phase_vals_deg = phase_vals * 180 / np.pi\n",
    "phase_vals_deg[phase_vals_deg < 0] += 360.\n",
    "\n",
    "signal_pwr = dBm2pwr(-110)\n",
    "\n",
    "snr = SNR(phase_vals, omega_vals, signal_pwr, 1e-6, T_N)\n",
    "snr\n",
    "\n",
    "# snr = SNR(max_n_vals, phase_vals, omega_vals, Q, 1e-6, T_N, G)\n",
    "# n_th = n_thermal(T_N, omega_vals)\n",
    "\n",
    "# print(max_n_vals * omega_vals/Q * 1e-6)\n",
    "\n",
    "# fig, ax = plt.subplots(1, 1, figsize=(3,2))\n",
    "# ax.plot(omega_vals / twopi, phase_vals_deg)\n",
    "\n",
    "# fig, ax = plt.subplots(1, 1, figsize=(3,2))\n",
    "# ax.plot(omega_vals / twopi, max_V_vals * 1e6)\n",
    "\n",
    "# fig, ax = plt.subplots(1, 1, figsize=(3,2))\n",
    "# ax.plot(omega_vals / twopi, max_n_vals)\n",
    "\n",
    "# fig, ax = plt.subplots(1, 1, figsize=(3,2))\n",
    "# ax.plot(omega_vals / twopi, n_th)\n",
    "\n",
    "# fig, ax = plt.subplots(1, 1, figsize=(3,2))\n",
    "# ax.plot(omega_vals / twopi, snr)"
   ]
  },
  {
   "cell_type": "code",
   "execution_count": null,
   "metadata": {
    "collapsed": true
   },
   "outputs": [],
   "source": []
  }
 ],
 "metadata": {
  "kernelspec": {
   "display_name": "Python 3",
   "language": "python",
   "name": "python3"
  },
  "language_info": {
   "codemirror_mode": {
    "name": "ipython",
    "version": 3
   },
   "file_extension": ".py",
   "mimetype": "text/x-python",
   "name": "python",
   "nbconvert_exporter": "python",
   "pygments_lexer": "ipython3",
   "version": "3.6.2"
  }
 },
 "nbformat": 4,
 "nbformat_minor": 2
}
