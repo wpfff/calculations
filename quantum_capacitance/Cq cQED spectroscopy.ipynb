{
 "cells": [
  {
   "cell_type": "code",
   "execution_count": 1,
   "metadata": {},
   "outputs": [
    {
     "data": {
      "text/html": [
       "\n",
       "<script src=\"https://code.jquery.com/ui/1.10.4/jquery-ui.min.js\" type=\"text/javascript\"></script>\n",
       "<script type=\"text/javascript\">function HoloViewsWidget(){\n",
       "}\n",
       "\n",
       "HoloViewsWidget.comms = {};\n",
       "HoloViewsWidget.comm_state = {};\n",
       "\n",
       "HoloViewsWidget.prototype.init_slider = function(init_val){\n",
       "\tif(this.load_json) {\n",
       "\t\tthis.from_json()\n",
       "\t} else {\n",
       "\t\tthis.update_cache();\n",
       "\t}\n",
       "}\n",
       "\n",
       "HoloViewsWidget.prototype.populate_cache = function(idx){\n",
       "    this.cache[idx].html(this.frames[idx]);\n",
       "    if (this.embed) {\n",
       "        delete this.frames[idx];\n",
       "    }\n",
       "}\n",
       "\n",
       "HoloViewsWidget.prototype.process_error = function(msg){\n",
       "\n",
       "}\n",
       "\n",
       "HoloViewsWidget.prototype.from_json = function() {\n",
       "\tvar data_url = this.json_path + this.id + '.json';\n",
       "\t$.getJSON(data_url, $.proxy(function(json_data) {\n",
       "\t\tthis.frames = json_data;\n",
       "\t\tthis.update_cache();\n",
       "\t\tthis.update(0);\n",
       "\t}, this));\n",
       "}\n",
       "\n",
       "HoloViewsWidget.prototype.dynamic_update = function(current){\n",
       "\tif (current === undefined) {\n",
       "\t\treturn\n",
       "\t}\n",
       "\tif(this.dynamic) {\n",
       "\t\tcurrent = JSON.stringify(current);\n",
       "\t}\n",
       "\tfunction callback(initialized, msg){\n",
       "\t\t/* This callback receives data from Python as a string\n",
       "\t\t   in order to parse it correctly quotes are sliced off*/\n",
       "\t\tif (msg.content.ename != undefined) {\n",
       "\t\t\tthis.process_error(msg);\n",
       "\t\t}\n",
       "\t\tif (msg.msg_type != \"execute_result\") {\n",
       "\t\t\tconsole.log(\"Warning: HoloViews callback returned unexpected data for key: (\", current, \") with the following content:\", msg.content)\n",
       "\t\t\tthis.time = undefined;\n",
       "\t\t\tthis.wait = false;\n",
       "\t\t\treturn\n",
       "\t\t}\n",
       "\t\tthis.timed = (Date.now() - this.time) * 1.1;\n",
       "\t\tif (msg.msg_type == \"execute_result\") {\n",
       "\t\t\tif (msg.content.data['text/plain'].includes('Complete')) {\n",
       "\t\t\t\tthis.wait = false;\n",
       "\t\t\t\tif (this.queue.length > 0) {\n",
       "\t\t\t\t\tthis.time = Date.now();\n",
       "\t\t\t\t\tthis.dynamic_update(this.queue[this.queue.length-1]);\n",
       "\t\t\t\t\tthis.queue = [];\n",
       "\t\t\t\t}\n",
       "\t\t\t\treturn\n",
       "\t\t\t}\n",
       "\t\t}\n",
       "\t}\n",
       "\tthis.current = current;\n",
       "\tif ((window.Jupyter !== undefined) && (Jupyter.notebook.kernel != null)) {\n",
       "\t\tvar kernel = Jupyter.notebook.kernel;\n",
       "\t\tcallbacks = {iopub: {output: $.proxy(callback, this, this.initialized)}};\n",
       "\t\tvar cmd = \"holoviews.plotting.widgets.NdWidget.widgets['\" + this.id + \"'].update(\" + current + \")\";\n",
       "\t\tkernel.execute(\"import holoviews;\" + cmd, callbacks, {silent : false});\n",
       "\t}\n",
       "}\n",
       "\n",
       "HoloViewsWidget.prototype.update_cache = function(force){\n",
       "    var frame_len = Object.keys(this.frames).length;\n",
       "    for (var i=0; i<frame_len; i++) {\n",
       "        if(!this.load_json || this.dynamic)  {\n",
       "            frame = Object.keys(this.frames)[i];\n",
       "        } else {\n",
       "            frame = i;\n",
       "        }\n",
       "        if(!(frame in this.cache) || force) {\n",
       "\t\t\tif ((frame in this.cache) && force) { this.cache[frame].remove() }\n",
       "\t\t\tthis.cache[frame] = $('<div />').appendTo(\"#\"+\"_anim_img\"+this.id).hide();\n",
       "\t\t\tvar cache_id = \"_anim_img\"+this.id+\"_\"+frame;\n",
       "\t\t\tthis.cache[frame].attr(\"id\", cache_id);\n",
       "\t\t\tthis.populate_cache(frame);\n",
       "        }\n",
       "    }\n",
       "}\n",
       "\n",
       "HoloViewsWidget.prototype.update = function(current){\n",
       "    if(current in this.cache) {\n",
       "        $.each(this.cache, function(index, value) {\n",
       "            value.hide();\n",
       "        });\n",
       "        this.cache[current].show();\n",
       "\t\tthis.wait = false;\n",
       "    }\n",
       "}\n",
       "\n",
       "HoloViewsWidget.prototype.init_comms = function() {\n",
       "\tif ((window.Jupyter !== undefined) && (Jupyter.notebook.kernel !== undefined)) {\n",
       "\t\tvar widget = this;\n",
       "\t\tcomm_manager = Jupyter.notebook.kernel.comm_manager;\n",
       "        comm_manager.register_target(this.id, function (comm) {\n",
       "\t\t\tcomm.on_msg(function (msg) { widget.process_msg(msg) });\n",
       "\t\t});\n",
       "\t}\n",
       "}\n",
       "\n",
       "HoloViewsWidget.prototype.process_msg = function(msg) {\n",
       "}\n",
       "\n",
       "function SelectionWidget(frames, id, slider_ids, keyMap, dim_vals, notFound, load_json, mode, cached, json_path, dynamic){\n",
       "    this.frames = frames;\n",
       "    this.id = id;\n",
       "    this.slider_ids = slider_ids;\n",
       "    this.keyMap = keyMap\n",
       "    this.current_frame = 0;\n",
       "    this.current_vals = dim_vals;\n",
       "    this.load_json = load_json;\n",
       "    this.mode = mode;\n",
       "    this.notFound = notFound;\n",
       "    this.cached = cached;\n",
       "    this.dynamic = dynamic;\n",
       "    this.cache = {};\n",
       "\tthis.json_path = json_path;\n",
       "    this.init_slider(this.current_vals[0]);\n",
       "\tthis.queue = [];\n",
       "\tthis.wait = false;\n",
       "\tif (!this.cached || this.dynamic) {\n",
       "\t\tthis.init_comms()\n",
       "\t}\n",
       "}\n",
       "\n",
       "SelectionWidget.prototype = new HoloViewsWidget;\n",
       "\n",
       "\n",
       "SelectionWidget.prototype.get_key = function(current_vals) {\n",
       "\tvar key = \"(\";\n",
       "    for (var i=0; i<this.slider_ids.length; i++)\n",
       "    {\n",
       "        val = this.current_vals[i];\n",
       "        if (!(typeof val === 'string')) {\n",
       "            if (val % 1 === 0) { val = val.toFixed(1); }\n",
       "            else { val = val.toFixed(10); val = val.slice(0, val.length-1);}\n",
       "        }\n",
       "        key += \"'\" + val + \"'\";\n",
       "        if(i != this.slider_ids.length-1) { key += ', ';}\n",
       "        else if(this.slider_ids.length == 1) { key += ',';}\n",
       "    }\n",
       "    key += \")\";\n",
       "\treturn this.keyMap[key];\n",
       "}\n",
       "\n",
       "SelectionWidget.prototype.set_frame = function(dim_val, dim_idx){\n",
       "\tthis.current_vals[dim_idx] = dim_val;\n",
       "    var current = this.get_key(this.current_vals);\n",
       "    if(current === undefined && !this.dynamic) {\n",
       "        return\n",
       "    }\n",
       "\tif (this.dynamic || !this.cached) {\n",
       "\t\tif (this.time === undefined) {\n",
       "\t\t\t// Do nothing the first time\n",
       "\t\t} else if ((this.timed === undefined) || ((this.time + this.timed) > Date.now())) {\n",
       "\t\t\tvar key = this.current_vals;\n",
       "\t\t\tif (!this.dynamic) {\n",
       "\t\t\t\tkey = this.get_key(key);\n",
       "\t\t\t}\n",
       "\t\t\tthis.queue.push(key);\n",
       "\t\t\treturn\n",
       "\t\t}\n",
       "\t}\n",
       "\tthis.queue = [];\n",
       "\tthis.time = Date.now();\n",
       "\tthis.current_frame = current;\n",
       "    if(this.dynamic) {\n",
       "        this.dynamic_update(this.current_vals)\n",
       "    } else if(this.cached) {\n",
       "        this.update(current)\n",
       "    } else {\n",
       "        this.dynamic_update(current)\n",
       "    }\n",
       "}\n",
       "\n",
       "\n",
       "/* Define the ScrubberWidget class */\n",
       "function ScrubberWidget(frames, num_frames, id, interval, load_json, mode, cached, json_path, dynamic){\n",
       "    this.slider_id = \"_anim_slider\" + id;\n",
       "    this.loop_select_id = \"_anim_loop_select\" + id;\n",
       "    this.id = id;\n",
       "    this.interval = interval;\n",
       "    this.current_frame = 0;\n",
       "    this.direction = 0;\n",
       "    this.dynamic = dynamic;\n",
       "    this.timer = null;\n",
       "    this.load_json = load_json;\n",
       "    this.mode = mode;\n",
       "    this.cached = cached;\n",
       "    this.frames = frames;\n",
       "    this.cache = {};\n",
       "    this.length = num_frames;\n",
       "\tthis.json_path = json_path;\n",
       "    document.getElementById(this.slider_id).max = this.length - 1;\n",
       "    this.init_slider(0);\n",
       "\tthis.wait = false;\n",
       "\tthis.queue = [];\n",
       "\tif (!this.cached || this.dynamic) {\n",
       "\t\tthis.init_comms()\n",
       "\t}\n",
       "}\n",
       "\n",
       "ScrubberWidget.prototype = new HoloViewsWidget;\n",
       "\n",
       "ScrubberWidget.prototype.set_frame = function(frame){\n",
       "\tthis.current_frame = frame;\n",
       "\twidget = document.getElementById(this.slider_id);\n",
       "    if (widget === null) {\n",
       "        this.pause_animation();\n",
       "        return\n",
       "    }\n",
       "    widget.value = this.current_frame;\n",
       "    if(this.cached) {\n",
       "        this.update(frame)\n",
       "    } else {\n",
       "        this.dynamic_update(frame)\n",
       "    }\n",
       "}\n",
       "\n",
       "\n",
       "ScrubberWidget.prototype.process_error = function(msg){\n",
       "\tif (msg.content.ename === 'StopIteration') {\n",
       "\t\tthis.pause_animation();\n",
       "\t\tthis.stopped = true;\n",
       "\t\tvar keys = Object.keys(this.frames)\n",
       "\t\tthis.length = keys.length;\n",
       "\t\tdocument.getElementById(this.slider_id).max = this.length-1;\n",
       "\t\tdocument.getElementById(this.slider_id).value = this.length-1;\n",
       "\t\tthis.current_frame = this.length-1;\n",
       "\t}\n",
       "}\n",
       "\n",
       "\n",
       "ScrubberWidget.prototype.get_loop_state = function(){\n",
       "    var button_group = document[this.loop_select_id].state;\n",
       "    for (var i = 0; i < button_group.length; i++) {\n",
       "        var button = button_group[i];\n",
       "        if (button.checked) {\n",
       "            return button.value;\n",
       "        }\n",
       "    }\n",
       "    return undefined;\n",
       "}\n",
       "\n",
       "\n",
       "ScrubberWidget.prototype.next_frame = function() {\n",
       "\tthis.set_frame(Math.min(this.length - 1, this.current_frame + 1));\n",
       "}\n",
       "\n",
       "ScrubberWidget.prototype.previous_frame = function() {\n",
       "    this.set_frame(Math.max(0, this.current_frame - 1));\n",
       "}\n",
       "\n",
       "ScrubberWidget.prototype.first_frame = function() {\n",
       "    this.set_frame(0);\n",
       "}\n",
       "\n",
       "ScrubberWidget.prototype.last_frame = function() {\n",
       "    this.set_frame(this.length - 1);\n",
       "}\n",
       "\n",
       "ScrubberWidget.prototype.slower = function() {\n",
       "    this.interval /= 0.7;\n",
       "    if(this.direction > 0){this.play_animation();}\n",
       "    else if(this.direction < 0){this.reverse_animation();}\n",
       "}\n",
       "\n",
       "ScrubberWidget.prototype.faster = function() {\n",
       "    this.interval *= 0.7;\n",
       "    if(this.direction > 0){this.play_animation();}\n",
       "    else if(this.direction < 0){this.reverse_animation();}\n",
       "}\n",
       "\n",
       "ScrubberWidget.prototype.anim_step_forward = function() {\n",
       "    if(this.current_frame < this.length - 1){\n",
       "        this.next_frame();\n",
       "    }else{\n",
       "        var loop_state = this.get_loop_state();\n",
       "        if(loop_state == \"loop\"){\n",
       "            this.first_frame();\n",
       "        }else if(loop_state == \"reflect\"){\n",
       "            this.last_frame();\n",
       "            this.reverse_animation();\n",
       "        }else{\n",
       "            this.pause_animation();\n",
       "            this.last_frame();\n",
       "        }\n",
       "    }\n",
       "}\n",
       "\n",
       "ScrubberWidget.prototype.anim_step_reverse = function() {\n",
       "    if(this.current_frame > 0){\n",
       "        this.previous_frame();\n",
       "    } else {\n",
       "        var loop_state = this.get_loop_state();\n",
       "        if(loop_state == \"loop\"){\n",
       "            this.last_frame();\n",
       "        }else if(loop_state == \"reflect\"){\n",
       "            this.first_frame();\n",
       "            this.play_animation();\n",
       "        }else{\n",
       "            this.pause_animation();\n",
       "            this.first_frame();\n",
       "        }\n",
       "    }\n",
       "}\n",
       "\n",
       "ScrubberWidget.prototype.pause_animation = function() {\n",
       "    this.direction = 0;\n",
       "    if (this.timer){\n",
       "        clearInterval(this.timer);\n",
       "        this.timer = null;\n",
       "    }\n",
       "}\n",
       "\n",
       "ScrubberWidget.prototype.play_animation = function() {\n",
       "    this.pause_animation();\n",
       "    this.direction = 1;\n",
       "    var t = this;\n",
       "    if (!this.timer) this.timer = setInterval(function(){t.anim_step_forward();}, this.interval);\n",
       "}\n",
       "\n",
       "ScrubberWidget.prototype.reverse_animation = function() {\n",
       "    this.pause_animation();\n",
       "    this.direction = -1;\n",
       "    var t = this;\n",
       "    if (!this.timer) this.timer = setInterval(function(){t.anim_step_reverse();}, this.interval);\n",
       "}\n",
       "\n",
       "function extend(destination, source) {\n",
       "    for (var k in source) {\n",
       "        if (source.hasOwnProperty(k)) {\n",
       "            destination[k] = source[k];\n",
       "        }\n",
       "    }\n",
       "    return destination;\n",
       "}\n",
       "\n",
       "function update_widget(widget, values) {\n",
       "\tif (widget.hasClass(\"ui-slider\")) {\n",
       "\t\twidget.slider('option',\n",
       "\t\t\t\t\t  {'min': 0, 'max': values.length-1,\n",
       "\t\t\t\t\t   'dim_vals': values, 'value': 0,\n",
       "\t\t\t\t\t   'dim_labels': values})\n",
       "\t\twidget.slider('option', 'slide').call(widget, event, {'value': 0})\n",
       "\t} else {\n",
       "\t\twidget.empty();\n",
       "\t\tfor (var i=0; i<values.length; i++){\n",
       "\t\t\twidget.append($(\"<option>\", {\n",
       "\t\t\t\tvalue: i,\n",
       "\t\t\t\ttext: values[i]\n",
       "\t\t\t}))};\n",
       "\t\twidget.data('values', values);\n",
       "\t\twidget.data('value', 0);\n",
       "\t\twidget.trigger(\"change\");\n",
       "\t};\n",
       "}\n",
       "\n",
       "// Define MPL specific subclasses\n",
       "function MPLSelectionWidget() {\n",
       "    SelectionWidget.apply(this, arguments);\n",
       "}\n",
       "\n",
       "function MPLScrubberWidget() {\n",
       "    ScrubberWidget.apply(this, arguments);\n",
       "}\n",
       "\n",
       "// Let them inherit from the baseclasses\n",
       "MPLSelectionWidget.prototype = Object.create(SelectionWidget.prototype);\n",
       "MPLScrubberWidget.prototype = Object.create(ScrubberWidget.prototype);\n",
       "\n",
       "// Define methods to override on widgets\n",
       "var MPLMethods = {\n",
       "    init_slider : function(init_val){\n",
       "        if(this.load_json) {\n",
       "            this.from_json()\n",
       "        } else {\n",
       "            this.update_cache();\n",
       "        }\n",
       "        this.update(0);\n",
       "        if(this.mode == 'nbagg') {\n",
       "            this.set_frame(init_val, 0);\n",
       "        }\n",
       "    },\n",
       "    populate_cache : function(idx){\n",
       "        var cache_id = \"_anim_img\"+this.id+\"_\"+idx;\n",
       "        this.cache[idx].html(this.frames[idx]);\n",
       "        if (this.embed) {\n",
       "            delete this.frames[idx];\n",
       "        }\n",
       "    },\n",
       "    process_msg : function(msg) {\n",
       "        if (!(this.mode == 'nbagg')) {\n",
       "            var data = msg.content.data;\n",
       "            this.frames[this.current] = data;\n",
       "            this.update_cache(true);\n",
       "            this.update(this.current);\n",
       "        }\n",
       "    }\n",
       "}\n",
       "// Extend MPL widgets with backend specific methods\n",
       "extend(MPLSelectionWidget.prototype, MPLMethods);\n",
       "extend(MPLScrubberWidget.prototype, MPLMethods);\n",
       "</script>\n",
       "\n",
       "\n",
       "<link rel=\"stylesheet\" href=\"https://code.jquery.com/ui/1.10.4/themes/smoothness/jquery-ui.css\">\n",
       "<style>div.hololayout {\n",
       "    display: flex;\n",
       "    align-items: center;\n",
       "    margin: 0;\n",
       "}\n",
       "\n",
       "div.holoframe {\n",
       "\twidth: 75%;\n",
       "}\n",
       "\n",
       "div.holowell {\n",
       "    display: flex;\n",
       "    align-items: center;\n",
       "    margin: 0;\n",
       "}\n",
       "\n",
       "form.holoform {\n",
       "    background-color: #fafafa;\n",
       "    border-radius: 5px;\n",
       "    overflow: hidden;\n",
       "\tpadding-left: 0.8em;\n",
       "    padding-right: 0.8em;\n",
       "    padding-top: 0.4em;\n",
       "    padding-bottom: 0.4em;\n",
       "}\n",
       "\n",
       "div.holowidgets {\n",
       "    padding-right: 0;\n",
       "\twidth: 25%;\n",
       "}\n",
       "\n",
       "div.holoslider {\n",
       "    min-height: 0 !important;\n",
       "    height: 0.8em;\n",
       "    width: 60%;\n",
       "}\n",
       "\n",
       "div.holoformgroup {\n",
       "    padding-top: 0.5em;\n",
       "    margin-bottom: 0.5em;\n",
       "}\n",
       "\n",
       "div.hologroup {\n",
       "    padding-left: 0;\n",
       "    padding-right: 0.8em;\n",
       "    width: 50%;\n",
       "}\n",
       "\n",
       ".holoselect {\n",
       "    width: 92%;\n",
       "    margin-left: 0;\n",
       "    margin-right: 0;\n",
       "}\n",
       "\n",
       ".holotext {\n",
       "    width: 100%;\n",
       "    padding-left:  0.5em;\n",
       "    padding-right: 0;\n",
       "}\n",
       "\n",
       ".holowidgets .ui-resizable-se {\n",
       "\tvisibility: hidden\n",
       "}\n",
       "\n",
       ".holoframe > .ui-resizable-se {\n",
       "\tvisibility: hidden\n",
       "}\n",
       "\n",
       ".holowidgets .ui-resizable-s {\n",
       "\tvisibility: hidden\n",
       "}\n",
       "</style>\n",
       "\n",
       "\n",
       "<div>\n",
       "<img src='data:image/png;base64,iVBORw0KGgoAAAANSUhEUgAAAEAAAABACAYAAACqaXHeAAAABHNCSVQICAgIfAhkiAAAAAlwSFlz\n",
       "AAAB+wAAAfsBxc2miwAAABl0RVh0U29mdHdhcmUAd3d3Lmlua3NjYXBlLm9yZ5vuPBoAAA6zSURB\n",
       "VHic7ZtpeFRVmsf/5966taWqUlUJ2UioBBJiIBAwCZtog9IOgjqACsogKtqirT2ttt069nQ/zDzt\n",
       "tI4+CrJIREFaFgWhBXpUNhHZQoKBkIUASchWla1S+3ar7r1nPkDaCAnZKoQP/D7mnPOe9/xy76n3\n",
       "nFSAW9ziFoPFNED2LLK5wcyBDObkb8ZkxuaoSYlI6ZcOKq1eWFdedqNzGHQBk9RMEwFAASkk0Xw3\n",
       "ETacDNi2vtvc7L0ROdw0AjoSotQVkKSvHQz/wRO1lScGModBFbDMaNRN1A4tUBCS3lk7BWhQkgpD\n",
       "lG4852/+7DWr1R3uHAZVQDsbh6ZPN7CyxUrCzJMRouusj0ipRwD2uKm0Zn5d2dFwzX1TCGhnmdGo\n",
       "G62Nna+isiUqhkzuKrkQaJlPEv5mFl2fvGg2t/VnzkEV8F5ioioOEWkLG86fvbpthynjdhXYZziQ\n",
       "x1hC9J2NFyi8vCTt91Fh04KGip0AaG9zuCk2wQCVyoNU3Hjezee9bq92duzzTmxsRJoy+jEZZZYo\n",
       "GTKJ6SJngdJqAfRzpze0+jHreUtPc7gpBLQnIYK6BYp/uGhw9YK688eu7v95ysgshcg9qSLMo3JC\n",
       "4jqLKQFBgdKDPoQ+Pltb8dUyQLpeDjeVgI6EgLIQFT5tEl3rn2losHVsexbZ3EyT9wE1uGdkIPcy\n",
       "BGxn8QUq1QrA5nqW5i2tLqvrrM9NK6AdkVIvL9E9bZL/oyfMVd/jqvc8LylzRBKDJSzIExwhQzuL\n",
       "QYGQj4rHfFTc8mUdu3E7yoLtbTe9gI4EqVgVkug2i5+uXGo919ixbRog+3fTbQ8qJe4ZOYNfMoTI\n",
       "OoshUNosgO60AisX15aeI2PSIp5KiFLI9ubb1vV3Qb2ltwLakUCDAkWX7/nHKRmmGIl9VgYsUhJm\n",
       "2NXjKYADtM1ygne9QQDIXlk49FBstMKx66D1v4+XuQr7vqTe0VcBHQlRWiOCbmmSYe2SqtL6q5rJ\n",
       "zsTb7lKx3FKOYC4DoqyS/B5bvLPxvD9Qtf6saxYLQGJErmDOdOMr/zo96km1nElr8bmPOBwI9COv\n",
       "HnFPRIwmkSOv9kcAS4heRsidOkpeWBgZM+UBrTFAXNYL5Vf2ii9c1trNzpYdaoVil3WIc+wdk+gQ\n",
       "noie3ecCcxt9ITcLAPWt/laGEO/9U6PmzZkenTtsSMQ8uYywJVW+grCstAvCIaAdArAsIWkRDDs/\n",
       "KzLm2YcjY1Lv0UdW73HabE9n6V66cxSzfEmuJssTpKGVp+0vHq73FwL46eOjpMpbRAnNmJFrGJNu\n",
       "Ukf9Yrz+3rghiumCKNXXWPhLYcjxGsIpoCMsIRoFITkW8AuyM8jC1+/QLx4bozCEJIq38+1rtpR6\n",
       "V/yzb8eBlRb3fo5l783N0CWolAzJHaVNzkrTzlEp2bQ2q3TC5gn6wpnoQAmwSiGh2GitnTmVMc5O\n",
       "UyfKWUKCIsU7+fZDKwqdT6DDpvkzAX4/+AMFjk0tDp5GRXLpQ2MUmhgDp5gxQT8+Y7hyPsMi8uxF\n",
       "71H0oebujHALECjFKaW9Lm68n18wXp2kVzIcABytD5iXFzg+WVXkegpAsOOYziqo0OkK76GyquC3\n",
       "ltZAzMhhqlSNmmWTE5T6e3IN05ITFLM4GdN0vtZ3ob8Jh1NAKXFbm5PtLU/eqTSlGjkNAJjdgn/N\n",
       "aedXa0tdi7+t9G0FIF49rtMSEgAs1kDLkTPO7ebm4IUWeyh1bKomXqlgMG6kJmHcSM0clYLJ8XtR\n",
       "1GTnbV3F6I5wCGikAb402npp1h1s7LQUZZSMIfALFOuL3UUrfnS8+rez7v9qcold5tilgHbO1fjK\n",
       "9ubb17u9oshxzMiUBKXWqJNxd+fqb0tLVs4lILFnK71H0Ind7uiPgACVcFJlrb0tV6DzxqqTIhUM\n",
       "CwDf1/rrVhTa33/3pGPxJYdQ2l2cbgVcQSosdx8uqnDtbGjh9SlDVSMNWhlnilfqZk42Th2ZpLpf\n",
       "xrHec5e815zrr0dfBZSwzkZfqsv+1FS1KUknUwPARVvItfKUY+cn57yP7qv07UE3p8B2uhUwLk09\n",
       "e0SCOrK+hbdYHYLjRIl71wWzv9jpEoeOHhGRrJAzyEyNiJuUqX0g2sBN5kGK6y2Blp5M3lsB9Qh4\n",
       "y2Ja6x6+i0ucmKgwMATwhSjdUu49tKrQ/pvN5d53ml2CGwCmJipmKjgmyuaXzNeL2a0AkQ01Th5j\n",
       "2DktO3Jyk8f9vcOBQHV94OK+fPumJmvQHxJoWkaKWq9Vs+yUsbq0zGT1I4RgeH2b5wef7+c7bl8F\n",
       "eKgoHVVZa8ZPEORzR6sT1BzDUAD/d9F78e2Tzv99v8D+fLVTqAKAsbGamKey1Mt9Ann4eH3gTXTz\n",
       "idWtAJ8PQWOk7NzSeQn/OTHDuEikVF1R4z8BQCy+6D1aWRfY0tTGG2OM8rRoPaeIj5ZHzJxszElN\n",
       "VM8K8JS5WOfv8mzRnQAKoEhmt8gyPM4lU9SmBK1MCQBnW4KONT86v1hZ1PbwSXPw4JWussVjtH9Y\n",
       "NCoiL9UoH/6PSu8jFrfY2t36erQHXLIEakMi1SydmzB31h3GGXFDFNPaK8Rme9B79Ixrd0WN+1ij\n",
       "NRQ/doRmuFLBkHSTOm5GruG+pFjFdAmorG4IXH1Qua6ASniclfFtDYt+oUjKipPrCQB7QBQ2lrgP\n",
       "fFzm+9XWUtcqJ3/5vDLDpJ79XHZk3u8nGZ42qlj1+ydtbxysCezrydp6ugmipNJ7WBPB5tydY0jP\n",
       "HaVNzs3QzeE4ZpTbI+ZbnSFPbVOw9vsfnVvqWnirPyCNGD08IlqtYkh2hjZ5dErEQzoNm+6ykyOt\n",
       "Lt5/PQEuSRRKo22VkydK+vvS1XEKlhCJAnsqvcVvH7f/ZU2R67eXbMEGAMiIV5oWZWiWvz5Fv2xG\n",
       "sjqNJQRvn3Rs2lji/lNP19VjAQDgD7FHhujZB9OGqYxRkZxixgRDVlqS6uEOFaJUVu0rPFzctrnF\n",
       "JqijImVp8dEKVWyUXDk92zAuMZ6bFwpBU1HrOw6AdhQgUooChb0+ItMbWJitSo5Ws3IAOGEOtL53\n",
       "0vHZih9sC4vtofZ7Qu6523V/fmGcds1TY3V36pUsBwAbSlxnVh2xLfAD/IAIMDf7XYIkNmXfpp2l\n",
       "18rkAJAy9HKFaIr/qULkeQQKy9zf1JgDB2uaeFNGijo5QsUyacNUUTOnGO42xSnv4oOwpDi1zYkc\n",
       "efUc3I5Gk6PhyTuVKaOGyLUAYPGIoY9Pu/atL/L92+4q9wbflRJ2Trpm/jPjdBtfnqB/dIThcl8A\n",
       "KG7hbRuKnb8qsQsVvVlTrwQAQMUlf3kwJI24Z4JhPMtcfng5GcH49GsrxJpGvvHIaeem2ma+KSjQ\n",
       "lIwUdYyCY8j4dE1KzijNnIP2llF2wcXNnsoapw9XxsgYAl6k+KzUXbi2yP3KR2ecf6z3BFsBICdW\n",
       "nvnIaG3eHybqX7vbpEqUMT+9OL4Qpe8VON7dXuFd39v19FoAABRVePbGGuXTszO0P7tu6lghUonE\n",
       "llRdrhArLvmKdh9u29jcFiRRkfLUxBiFNiqSU9icoZQHo5mYBI1MBgBH6wMNb+U7Pnw337H4gi1Y\n",
       "ciWs+uks3Z9fztUvfzxTm9Ne8XXkvQLHNytOOZeiD4e0PgkAIAYCYknKUNUDSXEKzdWNpnil7r4p\n",
       "xqkjTarZMtk/K8TQ6Qve78qqvXurGwIJqcOUKfUWHsm8KGvxSP68YudXq4pcj39X49uOK2X142O0\n",
       "Tz5/u/7TVybqH0rSya6ZBwD21/gubbrgWdDgEOx9WUhfBaC2ibcEBYm7a7x+ukrBMNcEZggyR0TE\n",
       "T8zUPjikQ4VosQZbTpS4vqizBKvqmvjsqnpfzaZyx9JPiz1/bfGKdgD45XB1zoIMzYbfTdS/NClB\n",
       "Gct0USiY3YL/g0LHy/uq/Ef6uo5+n0R/vyhp17Klpge763f8rMu6YU/zrn2nml+2WtH+Z+5IAAFc\n",
       "2bUTdTDOSNa9+cQY7YLsOIXhevEkCvzph7a8laecz/Un/z4/Ae04XeL3UQb57IwU9ZDr9UuKVajv\n",
       "nxp1+1UVIo/LjztZkKH59fO3G/JemqCfmaCRqbqbd90ZZ8FfjtkfAyD0J/9+C2h1hDwsSxvGjNDc\n",
       "b4zk5NfrSwiQblLHzZhg+Jf4aPlUwpDqkQqa9nimbt1/TDH8OitGMaQnj+RJS6B1fbF7SY1TqO5v\n",
       "/v0WAADl1f7zokgS7s7VT2DZ7pegUjBM7mjtiDZbcN4j0YrHH0rXpCtY0qPX0cVL0rv5jv/ZXend\n",
       "0u/EESYBAFBU4T4Qa5TflZOhTe7pmKpaP8kCVUVw1+yhXfJWvn1P3hnXi33JsTN6PnP3hHZ8Z3/h\n",
       "aLHzmkNPuPj7Bc/F/Q38CwjTpSwQXgE4Vmwry9tpfq/ZFgqFMy4AVDtCvi8rvMvOmv0N4YwbVgEA\n",
       "sPM72/KVnzfspmH7HQGCRLG2yL1+z8XwvPcdCbsAANh+xPzstgMtxeGKt+6MK3/tacfvwhWvIwMi\n",
       "oKEBtm0H7W+UVfkc/Y1V0BhoPlDr/w1w/eu1vjIgAgDg22OtX6/eYfnEz/focrZTHAFR+PSs56/7\n",
       "q32nwpjazxgwAQCwcU/T62t3WL7r6/jVRa6/byp1rei+Z98ZUAEAhEPHPc8fKnTU9nbgtnOe8h0l\n",
       "9hcGIqmODLQAHCy2Xti6v/XNRivf43f4fFvIteu854+VHnR7q9tfBlwAAGz+pnndB9vM26UebAe8\n",
       "SLHujPOTPVW+rwY+sxskAAC2HrA8t2Vvc7ffP1r9o+vwR2dcr92InIAbKKC1FZ5tB1tf+/G8p8sv\n",
       "N/9Q5zd/XR34LYCwV5JdccMEAMDBk45DH243r/X4xGvqxFa/GNpS7n6rwOwNWwHVE26oAADYurf1\n",
       "zx/utOzt+DMKYM0p17YtZZ5VNzqfsB2HewG1WXE8PoZ7gOclbTIvynZf9JV+fqZtfgs/8F/Nu5rB\n",
       "EIBmJ+8QRMmpU7EzGRsf2FzuePqYRbzh/zE26EwdrT10f6r6o8HOYzCJB9Dpff8tbnGLG8L/A/WE\n",
       "roTBs2RqAAAAAElFTkSuQmCC'\n",
       "     style='height:25px; border-radius:12px; display: inline-block; float: left; vertical-align: middle'></img>\n",
       "\n",
       "\n",
       "\n",
       "\n",
       "  <img src='data:image/png;base64,iVBORw0KGgoAAAANSUhEUgAAACAAAAAgCAYAAABzenr0AAAABHNCSVQICAgIfAhkiAAAAAlwSFlz\n",
       "AAAFMAAABTABZarKtgAAABl0RVh0U29mdHdhcmUAd3d3Lmlua3NjYXBlLm9yZ5vuPBoAAArNSURB\n",
       "VFiFnVd5VFNXGv/ee0kgGyQhbFoXIKCFYEXEDVErTucMoKUOWA/VLsNSLPQgFTOdyrHPiIp1lFIQ\n",
       "OlaPShEG3EpPcQmISCuV1bQ1CLKIULeQhJA9JO+9+UMT0x5aPfOdc895373f/e7v/t537/ddBF5Q\n",
       "JBIJl81mJwCACEVRQBCEQhAEAQCgnghCURRCkmS7Wq2+WlJSYn0Rv8jzDHAcD0EQJIVGo5mFQuGF\n",
       "jIyMu39kq1KpkOrq6gU6nS6aIAiGzWY7VVBQ0P9/AcjNzWXy+fxcOp2uiY+Przm0d6+n8dblv/Fo\n",
       "kzM4SzYfPlRePvFnjnt6ehh1dXVv2mw2nlar/byoqMj8wgBwHBchCJIZEhJSeu1yHVi7vtu02t8+\n",
       "NykQ7BMWoOUMhXQsXLv5IQAwSJJEEASxcDicoeTk5DtCoZBy9XX69Gnv3t7ebJIky3EcH3guAKlU\n",
       "GoGiaOKWLVsOvhs7/9XXPMde3/IyIFbMnaPDuD5AUdQuOf2XlD0npTExMWYAgNbWVpZcLg8xGAzB\n",
       "JEnSvby82tPT052LaTQatLy8fBtJkt/s3Lnz5h8CwHFcRKPRNu/YsePAjh072KTs0IGCxRg8RgUB\n",
       "TGpSx6cmHgMAfNqN6Xa1GvJ/D35gYAAViURkcXHxUrPZHDRv3rxv4uLiDI7xPXv2bLdYLBUFBQWD\n",
       "jj7M8ZGbm8tkMpmSrKysQiaTScXGxtpqL7dManT6tcu5mgEWWJyOhicozpk+c3NsbKzNFcBbWWEf\n",
       "1Td9/upA30i3ZJv0h8bGxiSFQmFcuHDhOACAWCy+0d3dvX3lypUtzc3N9t8AiIuLk4SEhByLiooy\n",
       "AgAcO3ZsNlPgH3Cttb35JZo+bCYXIQAA9MDiUW7sWS1KN687w6Mera2twa2trfMvXboUOS28Pyb1\n",
       "U08McRtf/sXBSmt5cc35pqamVQqFwhoZGallMpnU/fv3e7RaberVq1d/AABAn1IfQqfTNRs3blQB\n",
       "AFy+fJk7Nja2XCKRnD3dNSorusPq6NfTPR+gPiEEoLRFXO1tS2+zavv27ReftjNttyr0S1/j0rUP\n",
       "PEJQwNwQYGgAACQSyXmNRhMtk8lYAAApKSlKDMP0+fn5QU4ACIKkxMfH1zjYuHnz5uspKSlOfdX7\n",
       "u68fvOePcCzKQR4YVCgATGfa/F3pnzaHWOAXSDyaMCqH2+r8VXErP3D+snXr1tV2dXW94dATExOr\n",
       "6XT6JgAAVCKRcDEMM4WHh9sAAHJyUqNu//wDymKx7AAAVVVVPiaTKXxByrYMvBsxEMSTwPXhuL+8\n",
       "e/fu9fv371+flvbemogYNz+TnsBOFEwMFO8/KzEYDKFVVVX+AAChoaGT7u7ud48ePRro0DEMs+bl\n",
       "5bFRNpud4O3tfdGBzq5uy/5wTUPM/q2zC9atmbVqeHg4Pi0t7WxGRoZFH5rw76I7LI8HqHfwPL7d\n",
       "rfVagzw1NfW81t4ePUfsP/OrnWZ6fPSuUqFQSEkkkrOjo6OvuQR5q0ajiXLoPj4+lzgcTjwKACLH\n",
       "9SqXy2kzhBO8haGo+UA2wZW+p880DxeveGt9aHx9fT09ctlq3sC0NT9e6xsbjuZblSxl7wKtVotM\n",
       "m6PnXvlmZJBtX91CEMQsxyJsNlteXl4udugIghAajQYFAEhPTx9AEGQOimGY8y4oLt63KlJkdB4t\n",
       "P282Z/c/dPrDH04ktJ9P2tfWXP3+2o1vHzunEp6Xq0lsGt08KzUrcSGTQ3n3XeefLCs5UqnT6Rap\n",
       "VCoEACA7O/snvV4f5gJooLa2NsihoygKKEVRzquTND2OCpttGXdG1tOxwOlgzdvE9v30rV+m3W5I\n",
       "2jfJNQmLH85QUUzPNTwvkAx0+vVGhq2/VV9fT+dyuZ01NTXOXQOA3fGxevXq2waDYY5r8KIoij5b\n",
       "jzB5Cz2oKdOo0erOm+1tVuVtBMZXElNMRJR1fvvjx9iPLQ/RjpuB0Xu/Vp7YmH1864YNG3oNBkPw\n",
       "VD7mzp1rJUnSzZUBmqsBggAgGFC/n6jVA+3WoN3tu1Gg39cg2tEx1Cg3CIJHsclxnl2HRorMN8Z0\n",
       "fRW+vr7GJ36Q56Z5h9BIknzGAMJWtvdQYs0EZe3/FSwqk5tpXEMb1JoYD+n8xRdQJl/fMPEgzKhS\n",
       "L40KCD7lGzg92qIyovpb3y/msT2un2psvFpWVvYyl8vtc1nDSXFXV5c7iqLOtEyS5LNBAADfWeKm\n",
       "Ly4uuvR1++sfv51/P5sfnHm2/Iy+mBmwsaHJbpt+Q0jHSS7TZ/PSNVkNJ/973OxtemD1s91CPb12\n",
       "h9MfvZsk5meo1eqo5ORkxTNWn7HR1tY2l8PhOAsUiqIolCRJcETtv/61qzNySYK5trZ2TCgUUiwW\n",
       "S1FSUhLR+bA/kAzwXcAbHa/cFhrTXrJ/v+7IkSPu3Je4Xm5eboJv2wba5QbO5fQwxhsP679Y+nFO\n",
       "jgAAoKSkJILFYjnBGI1G0YYNGwYBnqRoiqIQlKKojurq6gUAAAKBgKQoiuGYkJWVpTCZTOKmI1Xd\n",
       "HwnDcm+cOnOMw+H0FxYWbqpvqv/r9EV+bky+O+/QoUPiqJRt9JphTLFHbKBCR87tWL9EPN9oNIZn\n",
       "ZWUpXHaMCQQCEgCgsrIyEgBuoGq1+qpOp4t2GPH5/BvFxcVLHXpgYGDD8ePH/56Xl2cCAMjMzOxP\n",
       "S0s7pWfow4RCbz/fAF9RT0+P9yeffHJySSqev+9nxLD1FaAlTR8vlJ8vxxzsFhUVLRMIBB0OvwaD\n",
       "YRlFUdfQkpISK0EQ9J6eHgYAQEZGxl2z2Rw0MjJCBwBITk5+xOVyfzpw4ECSw5lQKKQIbxtJm4EN\n",
       "8eZ7jPz0oNv+dK5FG/jq54eH+IFr/S1KabBy0UerAvI+++wzD4vFEpCWljYEACCTyVh2ux3FcXwS\n",
       "BQCw2WxVdXV1bzrQRURE1FVVVTn1zMzM/pkzZ35/9OjRd0pLS19RqVQIy4/tCwDgOcPTQvFQEQBA\n",
       "aWnpK0ERK2LbyVllN341GUJ4YDu8zD5bKyur7O+85tx9Z2fnO1ar9QjA04KkpaVFs2LFir8olcq7\n",
       "YWFhJpFINNnX16drbGyMjY6Ovg0AIBaLjcuXL5d3d3d7XbhwIW704b3F479MeD1qVfJ5Og/bvb4R\n",
       "LwaDMZabm9uwflNa/z/3HOIv5NsDEK7XS7FeevXPvYNLvm5S/GglCK5KpZorlUobXE8g5ObmMqVS\n",
       "6UG1Wu1BURSHoijOiRMnwgoLC7coFAqBo+9Fm0KhEKStmvvto3TeucFN7pVJYbytarXaQyqVHsRx\n",
       "3N15TF1BuBaljr4rV66wOzo63mAymXdzcnKuwwtIUVHRMqvVGkgQxMV7NXvyJijGvcNXB/7z5Zdf\n",
       "bicI4gSO40NTAgD4bVnuODIAT2pElUq1FEEQO4fD6QsPD++fqixHEATj8/ntjoCrqKhwS0hIsJWV\n",
       "leURBHEOx3G563pT3tn5+flBDAbjg6CgoMMpKSlK17GhoSFMJpMFPk04DJIkEQzDzCwW6+5UD5Oa\n",
       "mhrfO3fufECS5GHXnf8pAAAAHMfdURTdimGYPjExsTo0NHTyj2ynEplMxurs7HyHIAiKJMlSHMct\n",
       "U9k9N2vl5+cH0en0TRiGWX18fC65vnh+LxqNBq2oqFhgMpmi7XY7arVaj+zdu/fxn/l/4bSZl5fH\n",
       "5nK5CQAQMtXznCRJePpEbwOAZhzHX4ix/wHzzC/tu64gcwAAAABJRU5ErkJggg=='\n",
       "       style='height:15px; border-radius:12px; display: inline-block; float: left'></img>\n",
       "  \n",
       "\n",
       "\n",
       "</div>\n"
      ],
      "text/plain": [
       "<IPython.core.display.HTML object>"
      ]
     },
     "metadata": {},
     "output_type": "display_data"
    }
   ],
   "source": [
    "from types import SimpleNamespace\n",
    "from scipy import constants\n",
    "import holoviews as hv\n",
    "import numpy as np\n",
    "from matplotlib import pyplot as plt\n",
    "\n",
    "hv.notebook_extension()\n",
    "#hv.extension('bokeh')"
   ]
  },
  {
   "cell_type": "code",
   "execution_count": 2,
   "metadata": {
    "collapsed": true
   },
   "outputs": [],
   "source": [
    "def transmission_amplitude(p, omega, z=1):\n",
    "    omega_z = np.sqrt(p.eps ** 2 + np.abs(p.t0 + z * p.t1) ** 2)\n",
    "    g_z = -p.lamb * np.abs(p.t0 + z * p.t1) / (2 * omega_z)\n",
    "    chi_z = (g_z ** 2) / (1j * p.Gamma_tot - (2 * omega_z - omega))\n",
    "    return -1j*np.sqrt(p.kappa_in * p.kappa_out) / ((-1j / 2) * (p.kappa_in + p.kappa_out) + \n",
    "                                                    (p.omega_0 - omega) + chi_z)\n",
    "\n",
    "\n",
    "def holoviews_transmission(p, omega):\n",
    "    return hv.Curve((omega, np.abs(transmission_amplitude(params, omega, z=1))**2), kdims=['omega']) * \\\n",
    "           hv.Curve((omega, np.abs(transmission_amplitude(params, omega, z=-1))**2), kdims=['omega'])\n",
    "    \n",
    "\n",
    "def holoviews_phase_shift(p, omega):\n",
    "    return hv.Curve((omega / (2 * np.pi), -(360 / (2 * np.pi)) * np.angle(transmission_amplitude(params, omega, z=1))), kdims=['frequency'], vdims=['Phase shift (deg)']) * \\\n",
    "           hv.Curve((omega / (2 * np.pi), -(360 / (2 * np.pi)) * np.angle(transmission_amplitude(params, omega, z=-1))), kdims=['frequency'], vdims=['Phase shift (deg)'])\n",
    "    \n",
    "\n",
    "def maximum_phase_shift(p, omega):\n",
    "    diff = np.angle(transmission_amplitude(params, omega, z=1)) - np.angle(transmission_amplitude(params, omega, z=-1))\n",
    "    max_diff = np.max(np.abs(diff))\n",
    "    omega_max_diff = [omega[i] for i in range(len(omega)) if np.abs(diff[i]) == max_diff]\n",
    "    return 360 * max_diff / (2 * np.pi), omega_max_diff"
   ]
  },
  {
   "cell_type": "code",
   "execution_count": 3,
   "metadata": {},
   "outputs": [
    {
     "data": {
      "text/html": [
       "<img src='data:image/png;base64,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' style='max-width:100%; margin: auto; display: block; '/>"
      ],
      "text/plain": [
       ":Overlay\n",
       "   .Curve.I  :Curve   [frequency]   (Phase shift (deg))\n",
       "   .Curve.II :Curve   [frequency]   (Phase shift (deg))"
      ]
     },
     "execution_count": 3,
     "metadata": {},
     "output_type": "execute_result"
    }
   ],
   "source": [
    "# Values from the Plugge paper\n",
    "kappa_in = 40e6 #* (2 * np.pi)\n",
    "kappa_out = 40e6 #* (2 * np.pi)\n",
    "omega_0 = 2000e6 #* (2 * np.pi)\n",
    "eps = 0;\n",
    "t0 = 1000e6 #* (2 * np.pi)\n",
    "t1 = 400e6 #* (2 * np.pi)\n",
    "lamb = 200e6 #* (2 * np.pi)\n",
    "Gamma_tot = 1e9 #* (2 * np.pi)\n",
    "omega = np.linspace(0.95 * omega_0, 1.05 * omega_0, 1000)\n",
    "\n",
    "params = SimpleNamespace(kappa_in=kappa_in, kappa_out=kappa_out, omega_0=omega_0, Gamma_tot=Gamma_tot,\n",
    "                        lamb=lamb, t0=t0, t1=t1, eps=eps)\n",
    "\n",
    "# holoviews_transmission(params, omega)\n",
    "holoviews_phase_shift(params, omega)"
   ]
  },
  {
   "cell_type": "code",
   "execution_count": 16,
   "metadata": {},
   "outputs": [
    {
     "name": "stdout",
     "output_type": "stream",
     "text": [
      "247338796.385\n",
      "Maximum phase shift is 8.01 deg.\n",
      "Maximum occurs at omega = 5032.33e6 s-1\n",
      "This corresponds to a frequency of 800.92 MHz\n"
     ]
    },
    {
     "data": {
      "text/html": [
       "<img src='data:image/png;base64,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' style='max-width:100%; margin: auto; display: block; '/>"
      ],
      "text/plain": [
       ":Overlay\n",
       "   .Curve.I  :Curve   [frequency]   (Phase shift (deg))\n",
       "   .Curve.II :Curve   [frequency]   (Phase shift (deg))"
      ]
     },
     "execution_count": 16,
     "metadata": {},
     "output_type": "execute_result"
    }
   ],
   "source": [
    "# Values from estimates for lumped elements\n",
    "kappa_in = 5e6 * (2 * np.pi)\n",
    "kappa_out = 5e6 * (2 * np.pi)\n",
    "omega_0 = 800e6 * (2 * np.pi)\n",
    "eps = 0#300e6 * (2 * np.pi);\n",
    "t0 = 500e6 * (2 * np.pi)\n",
    "t1 = 300e6 * (2 * np.pi)\n",
    "Gamma_tot = 0.5e9 * (2 * np.pi)\n",
    "\n",
    "C_QD_res = 2e-15\n",
    "beta = C_QD_res / 0.2e-12              # Use total capacitance of 200 fF to calculate lever arm\n",
    "\n",
    "lamb = ( beta * constants.e / constants.hbar) * np.sqrt(constants.hbar * omega_0 / C_QD_res)\n",
    "print(lamb)\n",
    "omega = np.linspace(0.975 * omega_0, 1.025 * omega_0, 100000)\n",
    "omega_near_resonance = np.linspace(0.999 * omega_0, 1.001 * omega_0, 10000)\n",
    "params = SimpleNamespace(kappa_in=kappa_in, kappa_out=kappa_out, omega_0=omega_0, Gamma_tot=Gamma_tot,\n",
    "                        lamb=lamb, t0=t0, t1=t1, eps=eps)\n",
    "\n",
    "print('Maximum phase shift is {:.2f} deg.\\nMaximum occurs at omega = {:.2f}e6 s-1\\nThis corresponds to a frequency of {:.2f} MHz'.format(maximum_phase_shift(params, omega)[0], maximum_phase_shift(params, omega)[1][0]/1e6, maximum_phase_shift(params, omega)[1][0]/(2*np.pi * 1e6)))\n",
    "holoviews_phase_shift(params, omega_near_resonance)\n",
    "# holoviews_phase_shift(params, omega)"
   ]
  },
  {
   "cell_type": "code",
   "execution_count": 5,
   "metadata": {},
   "outputs": [
    {
     "name": "stdout",
     "output_type": "stream",
     "text": [
      "Coupling is 176 MHz\n",
      "Maximum phase shift is 92.73 deg.\n",
      "Maximum occurs at omega = 31415.54e6 s-1\n",
      "This corresponds to a frequency of 4999.94 MHz\n"
     ]
    },
    {
     "data": {
      "text/html": [
       "<img src='data:image/png;base64,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' style='max-width:100%; margin: auto; display: block; '/>"
      ],
      "text/plain": [
       ":Overlay\n",
       "   .Curve.I  :Curve   [frequency]   (Phase shift (deg))\n",
       "   .Curve.II :Curve   [frequency]   (Phase shift (deg))"
      ]
     },
     "execution_count": 5,
     "metadata": {},
     "output_type": "execute_result"
    }
   ],
   "source": [
    "# Values from estimates for cQED\n",
    "kappa_in = 1e6 * (2 * np.pi)\n",
    "kappa_out = 1e6 * (2 * np.pi)\n",
    "omega_0 = 5e9 * (2 * np.pi)\n",
    "eps = 1e9 * (2 * np.pi);\n",
    "t0 = 2.5e9 * (2 * np.pi)\n",
    "t1 = 1e9 * (2 * np.pi)\n",
    "Gamma_tot = 1e9 * (2 * np.pi)\n",
    "\n",
    "C_QD_res = 1.6e-15\n",
    "beta = C_QD_res / 100e-15              # Use total capacitance of 200 fF to calculate lever arm\n",
    "\n",
    "lamb = ( beta * constants.e / constants.hbar) * np.sqrt(constants.hbar * omega_0 / C_QD_res)\n",
    "\n",
    "print(\"Coupling is \" + str(int(lamb / (2*np.pi*1e6))) + \" MHz\")\n",
    "\n",
    "omega = np.linspace(0.975 * omega_0, 1.025 * omega_0, 100000)\n",
    "omega_near_resonance = np.linspace(0.999 * omega_0, 1.001 * omega_0, 10000)\n",
    "params = SimpleNamespace(kappa_in=kappa_in, kappa_out=kappa_out, omega_0=omega_0, Gamma_tot=Gamma_tot,\n",
    "                        lamb=lamb, t0=t0, t1=t1, eps=eps)\n",
    "\n",
    "print('Maximum phase shift is {:.2f} deg.\\nMaximum occurs at omega = {:.2f}e6 s-1\\nThis corresponds to a frequency of {:.2f} MHz'.format(maximum_phase_shift(params, omega)[0], maximum_phase_shift(params, omega)[1][0]/1e6, maximum_phase_shift(params, omega)[1][0]/(2*np.pi * 1e6)))\n",
    "holoviews_phase_shift(params, omega)\n",
    "\n",
    "holoviews_phase_shift(params, omega_near_resonance)\n",
    "# holoviews_phase_shift(params, omega)"
   ]
  },
  {
   "cell_type": "markdown",
   "metadata": {},
   "source": [
    "## Playing with numbers"
   ]
  },
  {
   "cell_type": "code",
   "execution_count": 38,
   "metadata": {},
   "outputs": [
    {
     "name": "stdout",
     "output_type": "stream",
     "text": [
      "Gate capacitance = 6.41742481059527e-16F\n",
      "Coupling is 45 MHz\n",
      "Maximum phase shift is 9.35 deg.\n",
      "Maximum occurs at omega = 6241.99e6 s-1\n",
      "This corresponds to a frequency of 993.44 MHz\n"
     ]
    },
    {
     "data": {
      "text/html": [
       "<img src='data:image/png;base64,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' style='max-width:100%; margin: auto; display: block; '/>"
      ],
      "text/plain": [
       ":Overlay\n",
       "   .Curve.I  :Curve   [frequency]   (Phase shift (deg))\n",
       "   .Curve.II :Curve   [frequency]   (Phase shift (deg))"
      ]
     },
     "execution_count": 38,
     "metadata": {},
     "output_type": "execute_result"
    }
   ],
   "source": [
    "Q = 70\n",
    "omega_0 = 1000e6*2*np.pi #* (2 * np.pi) - e.g. resonance frequency\n",
    "eps = 0; #Dot-dot detuning (island-dot detuning assumed to be _______)\n",
    "t0 = 1800e6 #* (2 * np.pi)\n",
    "t1 = 1700e6 #* (2 * np.pi)\n",
    "Ec_dot = 200e-6*1.6e-19 #[J] Dot charging energy\n",
    "beta = 0.8 #dot lever arm (Cg/C_dot)\n",
    "Cp = 0.3e-12 #Resonator stray capacitance\n",
    "\n",
    "\n",
    "C_dot = constants.e**2/Ec_dot\n",
    "Cg = C_dot*beta\n",
    "print('Gate capacitance = '+str(Cg)+'F')\n",
    "\n",
    "Gamma_tot = 1e9 #* (2 * np.pi) #Decay and dephasing of DQD\n",
    "omega = np.linspace(0.95 * omega_0, 1.05 * omega_0, 1000)\n",
    "\n",
    "kappa_in = omega_0/Q\n",
    "kappa_out = omega_0/Q\n",
    "\n",
    "lamb = ( beta * constants.e / constants.h) * np.sqrt(constants.hbar * omega_0 / Cp) \n",
    "\n",
    "print(\"Coupling is \" + str(int(lamb / (2*np.pi*1e6))) + \" MHz\")\n",
    "\n",
    "params = SimpleNamespace(kappa_in=kappa_in, kappa_out=kappa_out, omega_0=omega_0, Gamma_tot=Gamma_tot,\n",
    "                        lamb=lamb, t0=t0, t1=t1, eps=eps)\n",
    "omega_near_resonance = np.linspace(0.999 * omega_0, 1.001 * omega_0, 10000)\n",
    "print('Maximum phase shift is {:.2f} deg.\\nMaximum occurs at omega = {:.2f}e6 s-1\\nThis corresponds to a frequency of {:.2f} MHz'.format(maximum_phase_shift(params, omega)[0], maximum_phase_shift(params, omega)[1][0]/1e6, maximum_phase_shift(params, omega)[1][0]/(2*np.pi * 1e6)))\n",
    "#holoviews_transmission(params, omega)\n",
    "holoviews_phase_shift(params, omega_near_resonance)\n",
    "\n",
    "#L = 1/(4*np.pi**2*Cp*(omega_0/(2*np.pi))**2)\n",
    "#print('Required L = ' + str(L/1e-9) + ' nH')"
   ]
  },
  {
   "cell_type": "raw",
   "metadata": {},
   "source": [
    "0.02/1.2"
   ]
  },
  {
   "cell_type": "code",
   "execution_count": 8,
   "metadata": {},
   "outputs": [
    {
     "data": {
      "text/plain": [
       "301.55114179267196"
      ]
     },
     "execution_count": 8,
     "metadata": {},
     "output_type": "execute_result"
    }
   ],
   "source": [
    "1/(4*np.pi**2*1.2e9*0.07e-12)"
   ]
  },
  {
   "cell_type": "code",
   "execution_count": 96,
   "metadata": {},
   "outputs": [
    {
     "name": "stdout",
     "output_type": "stream",
     "text": [
      "5.66246912495e-16\n",
      "282.562247086\n"
     ]
    }
   ],
   "source": [
    "cap_tmp = (2 * np.pi * 8.85e-12 * 3.9 * 7e-6)/(np.arccosh((2 * 285 + 90)/90))\n",
    "print(cap_tmp)\n",
    "print(1e6 * 1.6e-19 / cap_tmp)"
   ]
  },
  {
   "cell_type": "code",
   "execution_count": 79,
   "metadata": {},
   "outputs": [
    {
     "data": {
      "text/plain": [
       "9.0939174349269748e-08"
      ]
     },
     "execution_count": 79,
     "metadata": {},
     "output_type": "execute_result"
    }
   ],
   "source": [
    "100e-9*np.sqrt((3*np.sqrt(3)/(2 * np.pi)))"
   ]
  },
  {
   "cell_type": "code",
   "execution_count": 4,
   "metadata": {
    "scrolled": true
   },
   "outputs": [
    {
     "name": "stdout",
     "output_type": "stream",
     "text": [
      "99.32359633\n",
      "8.021781013244086e-16\n"
     ]
    }
   ],
   "source": [
    "Ec_dot = 200e-6*1.6e-19 #[J] Dot charging energy\n",
    "beta = 0.8 #dot lever arm (Cg/C_dot)\n",
    "omega_0 = 500e6 #resonance frequency\n",
    "C_dot = constants.e**2/Ec_dot\n",
    "#Cg = C_dot*beta\n",
    "Cg = 650e-18\n",
    "Cp = 200e-15\n",
    "\n",
    "lamb = ( beta * constants.e / constants.h) * np.sqrt(constants.hbar * omega_0 / Cp)\n",
    "print(lamb/1e6)\n",
    "print(C_dot)"
   ]
  },
  {
   "cell_type": "code",
   "execution_count": 4,
   "metadata": {},
   "outputs": [
    {
     "name": "stdout",
     "output_type": "stream",
     "text": [
      "0.05162561491223283\n"
     ]
    }
   ],
   "source": [
    "t = 5e9*constants.h #[J]\n",
    "alpha = 100e-18*4*t/(constants.e**2)\n",
    "print(alpha)"
   ]
  },
  {
   "cell_type": "markdown",
   "metadata": {},
   "source": [
    "## Colless analysis"
   ]
  },
  {
   "cell_type": "code",
   "execution_count": 5,
   "metadata": {
    "collapsed": true
   },
   "outputs": [],
   "source": [
    "def Cquantum(t, alpha):\n",
    "    C = (constants.e**2/(2*t))*alpha**2\n",
    "    return C\n",
    "\n",
    "def delta_phase(alpha, Cq, Q, Cp):\n",
    "    phi = (alpha*Cq*Q/Cp)*360/(2*np.pi)\n",
    "    return phi"
   ]
  },
  {
   "cell_type": "code",
   "execution_count": 7,
   "metadata": {},
   "outputs": [
    {
     "name": "stdout",
     "output_type": "stream",
     "text": [
      "Resonance frequency = 724.180066237MHz\n",
      "Bandwidth = 10.3454295177MHz\n",
      "quantum capacitance = 6.053196664703597e-18F\n",
      "phase shift = 0.10555471087614256 deg\n"
     ]
    }
   ],
   "source": [
    "from scipy import constants\n",
    "import numpy as np\n",
    "\n",
    "Z_0 = 50 #[Ohms] line impedance\n",
    "alpha = 1 #phase shift constant\n",
    "beta = 0.05 #lever arm of gate connected to resonator\n",
    "Cp = 0.23e-12 #[F] Resonator stray capacitance\n",
    "L = 210e-9 #[H] tank circuit inductance\n",
    "t = 8e9*constants.h #[J] double dot intra-dot tunnel coupling\n",
    "Q = 70\n",
    "\n",
    "f_res = 1/(2*np.pi*np.sqrt(L*Cp))\n",
    "#Q = np.sqrt(L/Cp)/Z_0\n",
    "BW = f_res/Q\n",
    "\n",
    "Cq = (constants.e**2/(2*t))*beta**2 #quantum capacitance at interdot transition\n",
    "delta_phi = alpha*Cq*Q/Cp #[rad] resonator phase shift\n",
    "\n",
    "print('Resonance frequency = '+str(f_res/1e6)+'MHz')\n",
    "#print('Expected Q = '+str(Q))\n",
    "print('Bandwidth = '+str(BW/1e6)+'MHz')\n",
    "print('quantum capacitance = '+str(Cq)+'F')\n",
    "print('phase shift = '+str(delta_phi*360/(2*np.pi))+' deg')"
   ]
  },
  {
   "cell_type": "code",
   "execution_count": 8,
   "metadata": {},
   "outputs": [
    {
     "ename": "NameError",
     "evalue": "name 'plt' is not defined",
     "output_type": "error",
     "traceback": [
      "\u001b[1;31m---------------------------------------------------------------------------\u001b[0m",
      "\u001b[1;31mNameError\u001b[0m                                 Traceback (most recent call last)",
      "\u001b[1;32m<ipython-input-8-ebfb999b4b12>\u001b[0m in \u001b[0;36m<module>\u001b[1;34m()\u001b[0m\n\u001b[0;32m     13\u001b[0m \u001b[1;33m\u001b[0m\u001b[0m\n\u001b[0;32m     14\u001b[0m \u001b[1;33m\u001b[0m\u001b[0m\n\u001b[1;32m---> 15\u001b[1;33m \u001b[0mplt\u001b[0m\u001b[1;33m.\u001b[0m\u001b[0mpcolormesh\u001b[0m\u001b[1;33m(\u001b[0m\u001b[0malpha\u001b[0m\u001b[1;33m,\u001b[0m \u001b[0mCp\u001b[0m\u001b[1;33m/\u001b[0m\u001b[1;36m1e-12\u001b[0m\u001b[1;33m,\u001b[0m \u001b[0mnp\u001b[0m\u001b[1;33m.\u001b[0m\u001b[0mtranspose\u001b[0m\u001b[1;33m(\u001b[0m\u001b[0mdelta_phi\u001b[0m\u001b[1;33m)\u001b[0m\u001b[1;33m)\u001b[0m\u001b[1;33m\u001b[0m\u001b[0m\n\u001b[0m\u001b[0;32m     16\u001b[0m \u001b[0mplt\u001b[0m\u001b[1;33m.\u001b[0m\u001b[0mxlabel\u001b[0m\u001b[1;33m(\u001b[0m\u001b[1;34m'alpha'\u001b[0m\u001b[1;33m)\u001b[0m\u001b[1;33m\u001b[0m\u001b[0m\n\u001b[0;32m     17\u001b[0m \u001b[0mplt\u001b[0m\u001b[1;33m.\u001b[0m\u001b[0mylabel\u001b[0m\u001b[1;33m(\u001b[0m\u001b[1;34m'Cp (pF)'\u001b[0m\u001b[1;33m)\u001b[0m\u001b[1;33m\u001b[0m\u001b[0m\n",
      "\u001b[1;31mNameError\u001b[0m: name 'plt' is not defined"
     ]
    }
   ],
   "source": [
    "t = 8e9*(constants.h)\n",
    "Q = 70\n",
    "\n",
    "alpha = np.linspace(0,1,1000)\n",
    "Cp = np.linspace(5e-14, 5e-13,2000)\n",
    "\n",
    "delta_phi = np.array([[0]*len(Cp)]*len(alpha))\n",
    "\n",
    "for i in range(len(alpha)):\n",
    "    for j in range(len(Cp)):\n",
    "        Cq = Cquantum(t, alpha[i])\n",
    "        delta_phi[i,j] = delta_phase(alpha[i], Cq, Q, Cp[j])\n",
    "                                          \n",
    "\n",
    "plt.pcolormesh(alpha, Cp/1e-12, np.transpose(delta_phi))\n",
    "plt.xlabel('alpha')\n",
    "plt.ylabel('Cp (pF)')\n",
    "plt.colorbar()\n",
    "plt.title('Phase shift (deg)')\n",
    "plt.show()\n",
    "\n"
   ]
  },
  {
   "cell_type": "code",
   "execution_count": 54,
   "metadata": {},
   "outputs": [
    {
     "data": {
      "image/png": "[encoded data removed]",
      "text/plain": [
       "<matplotlib.figure.Figure at 0x18af1a54b38>"
      ]
     },
     "metadata": {},
     "output_type": "display_data"
    }
   ],
   "source": [
    "Cp_cut = 0.3e-12\n",
    "idx = np.argmin(np.abs(Cp - Cp_cut))\n",
    "plt.plot(alpha, delta_phi[:,idx])\n",
    "plt.xlabel('alpha')\n",
    "plt.ylabel('Phase shift (deg)')\n",
    "plt.title('Cp = '+str(Cp[idx])+'F')\n",
    "plt.show()"
   ]
  },
  {
   "cell_type": "markdown",
   "metadata": {},
   "source": [
    "## Duty analysis"
   ]
  },
  {
   "cell_type": "code",
   "execution_count": 69,
   "metadata": {},
   "outputs": [
    {
     "data": {
      "image/png": "[encoded data removed]",
      "text/plain": [
       "<matplotlib.figure.Figure at 0x18af2beb4a8>"
      ]
     },
     "metadata": {},
     "output_type": "display_data"
    }
   ],
   "source": [
    "Q = 21\n",
    "L = 490e-9\n",
    "Cq = np.linspace(0, 1000, 100)*1e-18\n",
    "C = L/(Q*50)**2\n",
    "\n",
    "theta = 360*np.arctan(-2*Q*Cq/C)/(2*np.pi)\n",
    "\n",
    "plt.plot(Cq/1e-18, theta)\n",
    "plt.xlabel('Cq (aF)')\n",
    "plt.ylabel('Phase shift (deg)')\n",
    "plt.show()"
   ]
  },
  {
   "cell_type": "code",
   "execution_count": 64,
   "metadata": {},
   "outputs": [
    {
     "data": {
      "text/plain": [
       "0.66577375002835382"
      ]
     },
     "execution_count": 64,
     "metadata": {},
     "output_type": "execute_result"
    }
   ],
   "source": [
    "np.arctan(np.pi/4)"
   ]
  },
  {
   "cell_type": "code",
   "execution_count": 2,
   "metadata": {},
   "outputs": [
    {
     "name": "stdout",
     "output_type": "stream",
     "text": [
      "2.794736842105263\n"
     ]
    }
   ],
   "source": [
    "A = 150*150*1e-12\n",
    "epsilon = 8.85e-12\n",
    "k = 4\n",
    "t = 285e-9\n",
    "C = A*epsilon*k/t\n",
    "print(C/1e-12)"
   ]
  },
  {
   "cell_type": "markdown",
   "metadata": {
    "collapsed": true
   },
   "source": [
    "## Lambert numbers with Colless formulas"
   ]
  },
  {
   "cell_type": "code",
   "execution_count": 25,
   "metadata": {},
   "outputs": [
    {
     "name": "stdout",
     "output_type": "stream",
     "text": [
      "Resonance frequency = 370.0MHz\n",
      "Bandwidth = 37.0MHz\n",
      "quantum capacitance = 6.20667375508913e-17F\n",
      "phase shift = 0.10776248817612774 deg\n"
     ]
    }
   ],
   "source": [
    "Z_0 = 50 #[Ohms] line impedance\n",
    "alpha = 1 #phase shift constant\n",
    "beta = 27/727 #lever arm of gate connected to resonator\n",
    "Cp = 0.33e-12 #[F] Resonator stray capacitance\n",
    "L = 560e-9 #[H] tank circuit inductance\n",
    "t = 48e-6*1.6e-19 #[J] double dot intra-dot tunnel coupling\n",
    "Q = 10\n",
    "f_res = 370e6\n",
    "\n",
    "#f_res = 1/(2*np.pi*np.sqrt(L*Cp))\n",
    "#Q = np.sqrt(L/Cp)/Z_0\n",
    "BW = f_res/Q\n",
    "\n",
    "Cq = (constants.e**2/(2*t))*beta #quantum capacitance at interdot transition\n",
    "delta_phi = alpha*Cq*Q/Cp #[rad] resonator phase shift\n",
    "\n",
    "print('Resonance frequency = '+str(f_res/1e6)+'MHz')\n",
    "#print('Expected Q = '+str(Q))\n",
    "print('Bandwidth = '+str(BW/1e6)+'MHz')\n",
    "print('quantum capacitance = '+str(Cq)+'F')\n",
    "print('phase shift = '+str(delta_phi*360/(2*np.pi))+' deg')"
   ]
  },
  {
   "cell_type": "code",
   "execution_count": 20,
   "metadata": {},
   "outputs": [
    {
     "data": {
      "text/plain": [
       "4.4247786650573286e-13"
      ]
     },
     "execution_count": 20,
     "metadata": {},
     "output_type": "execute_result"
    }
   ],
   "source": [
    "1/(4*np.pi**2*349e6**2*470e-9)"
   ]
  },
  {
   "cell_type": "markdown",
   "metadata": {
    "collapsed": true
   },
   "source": [
    "## Gonzalez-Zalba analysis"
   ]
  },
  {
   "cell_type": "code",
   "execution_count": 29,
   "metadata": {},
   "outputs": [
    {
     "name": "stdout",
     "output_type": "stream",
     "text": [
      "R_Sis = 311554.758952 Ohms\n",
      "Tunnel resistance = 107570.29188098377 Ohms\n"
     ]
    }
   ],
   "source": [
    "Ec = 7.5e-3*1.6e-19 #[J] Charging energy e^2/2C. Gonzalez-Zalba number: 7.5mV\n",
    "ng0 = 0.49999999999 #[e] average gate charge - a.k.a. working point\n",
    "dng = 0.03 #[e] amplitude of AC wiggle on gate. Gonzalez-Zalba number: 0.03\n",
    "f = 335e6 #[Hz] frequency of AC wiggle. Gonzalez-Zalba number: 335MHz\n",
    "#Rt = 100e3 #[Ohms] tunnel resistance\n",
    "Gamma_0 = 1e9 #[Hz] Constant tunnel rate away from degeneracy. Gonzalez-Zalba number: 1GHz\n",
    "T = 0.1 #[K] temperature. Gonzalez-Zalba number: 100mK\n",
    "#Cg = 10e-18 #[F] gate capacitance.\n",
    "alpha = 0.92 #Gate lever arm. Gonzalez-Zalba number: 0.92\n",
    "Q = 42 #Loaded Q factor\n",
    "Cp = 0.5e-12 #[F] Resonator stray capacitance\n",
    "\n",
    "omega = 2*np.pi*f\n",
    "t=1\n",
    "ngt = ng0 + dng*np.sin(omega*t)\n",
    "Delta_E0 = Ec*(1 - 2*ng0)\n",
    "Rk = constants.h/constants.e**2\n",
    "C_sigma = constants.e**2/(2*Ec)\n",
    "Rt = 2*constants.k*T/(constants.e**2*Gamma_0)\n",
    "Cg = C_sigma*alpha\n",
    "\n",
    "gamma = (Delta_E0/constants.h)*(Rk/Rt)/np.tanh(Delta_E0/(2*constants.k*T))\n",
    "\n",
    "R_Sis = 2*Rt*(C_sigma/Cg)**2*(constants.k*T/Delta_E0)*np.sinh(Delta_E0/(constants.k*T))*(1 + gamma**2/omega**2)\n",
    "print('R_Sis = ' + str(R_Sis) + ' Ohms')\n",
    "print('Tunnel resistance = ' + str(Rt) + ' Ohms')\n"
   ]
  },
  {
   "cell_type": "code",
   "execution_count": 41,
   "metadata": {},
   "outputs": [
    {
     "data": {
      "image/png": "[encoded data removed]",
      "text/plain": [
       "<matplotlib.figure.Figure at 0x196d2c04278>"
      ]
     },
     "metadata": {},
     "output_type": "display_data"
    }
   ],
   "source": [
    "T = 1.4\n",
    "Gamma_0 = 380e6\n",
    "dng = 0.0125\n",
    "\n",
    "\n",
    "ng0 = np.linspace(0, 1, 400)\n",
    "Delta_E0 = Ec*(1 - 2*ng0)\n",
    "Delta_phi = (-np.pi*Q/Cp) * ((constants.e*alpha)**2/(2*constants.k*T)) * (1/np.cosh(Delta_E0/(2*constants.k*T)))**2 * (1/(1+omega**2/Gamma_0**2))\n",
    "\n",
    "plt.plot(ng0, Delta_phi)\n",
    "plt.xlabel('ng_0 (e)')\n",
    "plt.ylabel('Phase shift (rad)')\n",
    "plt.show()"
   ]
  },
  {
   "cell_type": "code",
   "execution_count": null,
   "metadata": {
    "collapsed": true
   },
   "outputs": [],
   "source": []
  }
 ],
 "metadata": {
  "hide_input": false,
  "kernelspec": {
   "display_name": "Python 3",
   "language": "python",
   "name": "python3"
  },
  "language_info": {
   "codemirror_mode": {
    "name": "ipython",
    "version": 3
   },
   "file_extension": ".py",
   "mimetype": "text/x-python",
   "name": "python",
   "nbconvert_exporter": "python",
   "pygments_lexer": "ipython3",
   "version": "3.6.2"
  },
  "toc": {
   "nav_menu": {},
   "number_sections": true,
   "sideBar": true,
   "skip_h1_title": false,
   "toc_cell": false,
   "toc_position": {},
   "toc_section_display": "block",
   "toc_window_display": false
  },
  "widgets": {
   "state": {},
   "version": "1.1.2"
  }
 },
 "nbformat": 4,
 "nbformat_minor": 1
}
